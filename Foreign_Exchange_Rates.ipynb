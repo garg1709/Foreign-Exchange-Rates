{
  "nbformat": 4,
  "nbformat_minor": 0,
  "metadata": {
    "colab": {
      "provenance": [],
      "collapsed_sections": []
    },
    "kernelspec": {
      "name": "python3",
      "display_name": "Python 3"
    },
    "language_info": {
      "name": "python"
    }
  },
  "cells": [
    {
      "cell_type": "markdown",
      "source": [
        "# **Foreign Exchange Rates 2000-2019**\n",
        "\n",
        "This notebook was run on this dataset - https://www.kaggle.com/datasets/brunotly/foreign-exchange-rates-per-dollar-20002019\n",
        "\n",
        "Also, this notebook was run on Google Colab and then imported into Kaggle."
      ],
      "metadata": {
        "id": "Tg-IEY9bmvZW"
      }
    },
    {
      "cell_type": "markdown",
      "source": [
        "# **Contents**\n",
        "\n",
        "\n",
        "1.   Import Libraries\n",
        "\n",
        "2.   Data Sourcing\n",
        "\n",
        "3.   Data Wrangling\n",
        "\n",
        "4.   Exploratory Data Analysis\n",
        "\n",
        "5.   Model Training\n",
        "\n",
        "6.   Model Evaluation\n",
        "\n"
      ],
      "metadata": {
        "id": "6EvKKLjBqBLd"
      }
    },
    {
      "cell_type": "markdown",
      "source": [
        "# **1- Import Libraries**"
      ],
      "metadata": {
        "id": "WmH0WOrzrPtr"
      }
    },
    {
      "cell_type": "markdown",
      "source": [
        "Import all the necessary libraries to be used in this notebook. I prefer to do this at the initial stage and added more libraries as the project progresses. These section was done is two aspect, the libraries installation and libraries import."
      ],
      "metadata": {
        "id": "GwIk2aCJrXlC"
      }
    },
    {
      "cell_type": "markdown",
      "source": [
        "**1.1 Libraries installed**\n",
        "\n",
        "**plotly_express** is a high-level interface to plotly that can be used for interactive visualizations and plots with a variety of data."
      ],
      "metadata": {
        "id": "wZYVweQZsQ26"
      }
    },
    {
      "cell_type": "code",
      "source": [
        "pip install plotly_express"
      ],
      "metadata": {
        "colab": {
          "base_uri": "https://localhost:8080/"
        },
        "id": "w8cIDLgisP2z",
        "outputId": "a2a4e765-baa9-401b-bf97-5e6707ada7d2"
      },
      "execution_count": null,
      "outputs": [
        {
          "output_type": "stream",
          "name": "stdout",
          "text": [
            "Looking in indexes: https://pypi.org/simple, https://us-python.pkg.dev/colab-wheels/public/simple/\n",
            "Requirement already satisfied: plotly_express in /usr/local/lib/python3.7/dist-packages (0.4.1)\n",
            "Requirement already satisfied: plotly>=4.1.0 in /usr/local/lib/python3.7/dist-packages (from plotly_express) (5.5.0)\n",
            "Requirement already satisfied: statsmodels>=0.9.0 in /usr/local/lib/python3.7/dist-packages (from plotly_express) (0.13.2)\n",
            "Requirement already satisfied: scipy>=0.18 in /usr/local/lib/python3.7/dist-packages (from plotly_express) (1.7.3)\n",
            "Requirement already satisfied: numpy>=1.11 in /usr/local/lib/python3.7/dist-packages (from plotly_express) (1.21.6)\n",
            "Requirement already satisfied: patsy>=0.5 in /usr/local/lib/python3.7/dist-packages (from plotly_express) (0.5.2)\n",
            "Requirement already satisfied: pandas>=0.20.0 in /usr/local/lib/python3.7/dist-packages (from plotly_express) (1.3.5)\n",
            "Requirement already satisfied: pytz>=2017.3 in /usr/local/lib/python3.7/dist-packages (from pandas>=0.20.0->plotly_express) (2022.2.1)\n",
            "Requirement already satisfied: python-dateutil>=2.7.3 in /usr/local/lib/python3.7/dist-packages (from pandas>=0.20.0->plotly_express) (2.8.2)\n",
            "Requirement already satisfied: six in /usr/local/lib/python3.7/dist-packages (from patsy>=0.5->plotly_express) (1.15.0)\n",
            "Requirement already satisfied: tenacity>=6.2.0 in /usr/local/lib/python3.7/dist-packages (from plotly>=4.1.0->plotly_express) (8.0.1)\n",
            "Requirement already satisfied: packaging>=21.3 in /usr/local/lib/python3.7/dist-packages (from statsmodels>=0.9.0->plotly_express) (21.3)\n",
            "Requirement already satisfied: pyparsing!=3.0.5,>=2.0.2 in /usr/local/lib/python3.7/dist-packages (from packaging>=21.3->statsmodels>=0.9.0->plotly_express) (3.0.9)\n"
          ]
        }
      ]
    },
    {
      "cell_type": "markdown",
      "source": [
        "**Pip install pystan** AND **pip install fbprophet**: These libraries are required to use the Prophet model that is already available under the fbprophet library."
      ],
      "metadata": {
        "id": "gRhMKjdrsnHr"
      }
    },
    {
      "cell_type": "code",
      "source": [
        "!pip install pystan~=2.14"
      ],
      "metadata": {
        "colab": {
          "base_uri": "https://localhost:8080/"
        },
        "id": "dkEeJPPqrOID",
        "outputId": "9228e543-29a5-4bf0-cec4-64cdd0f62d3b"
      },
      "execution_count": null,
      "outputs": [
        {
          "output_type": "stream",
          "name": "stdout",
          "text": [
            "Looking in indexes: https://pypi.org/simple, https://us-python.pkg.dev/colab-wheels/public/simple/\n",
            "Requirement already satisfied: pystan~=2.14 in /usr/local/lib/python3.7/dist-packages (2.19.1.1)\n",
            "Requirement already satisfied: Cython!=0.25.1,>=0.22 in /usr/local/lib/python3.7/dist-packages (from pystan~=2.14) (0.29.32)\n",
            "Requirement already satisfied: numpy>=1.7 in /usr/local/lib/python3.7/dist-packages (from pystan~=2.14) (1.21.6)\n"
          ]
        }
      ]
    },
    {
      "cell_type": "code",
      "source": [
        "!pip install fbprophet"
      ],
      "metadata": {
        "colab": {
          "base_uri": "https://localhost:8080/"
        },
        "id": "75pxzrNNolmG",
        "outputId": "be0af8c2-9222-48fe-c234-4afbd035f516"
      },
      "execution_count": null,
      "outputs": [
        {
          "output_type": "stream",
          "name": "stdout",
          "text": [
            "Looking in indexes: https://pypi.org/simple, https://us-python.pkg.dev/colab-wheels/public/simple/\n",
            "Requirement already satisfied: fbprophet in /usr/local/lib/python3.7/dist-packages (0.7.1)\n",
            "Requirement already satisfied: LunarCalendar>=0.0.9 in /usr/local/lib/python3.7/dist-packages (from fbprophet) (0.0.9)\n",
            "Requirement already satisfied: Cython>=0.22 in /usr/local/lib/python3.7/dist-packages (from fbprophet) (0.29.32)\n",
            "Requirement already satisfied: holidays>=0.10.2 in /usr/local/lib/python3.7/dist-packages (from fbprophet) (0.15)\n",
            "Requirement already satisfied: pystan>=2.14 in /usr/local/lib/python3.7/dist-packages (from fbprophet) (2.19.1.1)\n",
            "Requirement already satisfied: tqdm>=4.36.1 in /usr/local/lib/python3.7/dist-packages (from fbprophet) (4.64.1)\n",
            "Requirement already satisfied: matplotlib>=2.0.0 in /usr/local/lib/python3.7/dist-packages (from fbprophet) (3.2.2)\n",
            "Requirement already satisfied: cmdstanpy==0.9.5 in /usr/local/lib/python3.7/dist-packages (from fbprophet) (0.9.5)\n",
            "Requirement already satisfied: python-dateutil>=2.8.0 in /usr/local/lib/python3.7/dist-packages (from fbprophet) (2.8.2)\n",
            "Requirement already satisfied: setuptools-git>=1.2 in /usr/local/lib/python3.7/dist-packages (from fbprophet) (1.2)\n",
            "Requirement already satisfied: convertdate>=2.1.2 in /usr/local/lib/python3.7/dist-packages (from fbprophet) (2.4.0)\n",
            "Requirement already satisfied: pandas>=1.0.4 in /usr/local/lib/python3.7/dist-packages (from fbprophet) (1.3.5)\n",
            "Requirement already satisfied: numpy>=1.15.4 in /usr/local/lib/python3.7/dist-packages (from fbprophet) (1.21.6)\n",
            "Requirement already satisfied: pymeeus<=1,>=0.3.13 in /usr/local/lib/python3.7/dist-packages (from convertdate>=2.1.2->fbprophet) (0.5.11)\n",
            "Requirement already satisfied: hijri-converter in /usr/local/lib/python3.7/dist-packages (from holidays>=0.10.2->fbprophet) (2.2.4)\n",
            "Requirement already satisfied: korean-lunar-calendar in /usr/local/lib/python3.7/dist-packages (from holidays>=0.10.2->fbprophet) (0.2.1)\n",
            "Requirement already satisfied: pytz in /usr/local/lib/python3.7/dist-packages (from LunarCalendar>=0.0.9->fbprophet) (2022.2.1)\n",
            "Requirement already satisfied: ephem>=3.7.5.3 in /usr/local/lib/python3.7/dist-packages (from LunarCalendar>=0.0.9->fbprophet) (4.1.3)\n",
            "Requirement already satisfied: cycler>=0.10 in /usr/local/lib/python3.7/dist-packages (from matplotlib>=2.0.0->fbprophet) (0.11.0)\n",
            "Requirement already satisfied: kiwisolver>=1.0.1 in /usr/local/lib/python3.7/dist-packages (from matplotlib>=2.0.0->fbprophet) (1.4.4)\n",
            "Requirement already satisfied: pyparsing!=2.0.4,!=2.1.2,!=2.1.6,>=2.0.1 in /usr/local/lib/python3.7/dist-packages (from matplotlib>=2.0.0->fbprophet) (3.0.9)\n",
            "Requirement already satisfied: typing-extensions in /usr/local/lib/python3.7/dist-packages (from kiwisolver>=1.0.1->matplotlib>=2.0.0->fbprophet) (4.1.1)\n",
            "Requirement already satisfied: six>=1.5 in /usr/local/lib/python3.7/dist-packages (from python-dateutil>=2.8.0->fbprophet) (1.15.0)\n"
          ]
        }
      ]
    },
    {
      "cell_type": "markdown",
      "source": [
        "**1.2 Import**"
      ],
      "metadata": {
        "id": "2DY2b_H7tDuD"
      }
    },
    {
      "cell_type": "code",
      "execution_count": null,
      "metadata": {
        "colab": {
          "base_uri": "https://localhost:8080/"
        },
        "id": "GkPzkjaQmr5j",
        "outputId": "55cd27dc-dd76-41ff-f7b9-8f580a4b400b"
      },
      "outputs": [
        {
          "output_type": "stream",
          "name": "stdout",
          "text": [
            "Setup Completed!!!\n"
          ]
        }
      ],
      "source": [
        "import pandas as pd\n",
        "import numpy as np\n",
        "import seaborn as sns\n",
        "import matplotlib.pyplot as plt\n",
        "\n",
        "from plotly import tools\n",
        "import plotly_express as px\n",
        "import plotly.graph_objects as go\n",
        "from plotly.subplots import make_subplots\n",
        "\n",
        "from sklearn import feature_extraction, linear_model, model_selection, preprocessing\n",
        "from sklearn.model_selection import train_test_split, RandomizedSearchCV\n",
        "from scipy.stats import uniform\n",
        "\n",
        "import scipy\n",
        "import statsmodels\n",
        "from scipy.stats import boxcox\n",
        "from statsmodels.graphics.tsaplots import plot_acf, plot_pacf\n",
        "import statsmodels.api as sm\n",
        "from statsmodels.tsa.statespace import sarimax\n",
        "from statsmodels.tsa.seasonal import seasonal_decompose\n",
        "\n",
        "from pandas.plotting import lag_plot\n",
        "from statsmodels.tsa.stattools import acf, pacf\n",
        "from statsmodels.tsa.stattools import adfuller\n",
        "from fbprophet import Prophet\n",
        "from statsmodels.tsa.arima_model import ARIMA\n",
        "\n",
        "from sklearn.metrics import accuracy_score, confusion_matrix,classification_report, r2_score,mean_absolute_error,mean_squared_error\n",
        "\n",
        "from random import randrange\n",
        "import warnings \n",
        "warnings.filterwarnings('ignore')\n",
        "\n",
        "print(\"Setup Completed!!!\")"
      ]
    },
    {
      "cell_type": "markdown",
      "source": [
        "# **2. Data Sourcing**"
      ],
      "metadata": {
        "id": "hysMHNh7tbWa"
      }
    },
    {
      "cell_type": "markdown",
      "source": [
        "For this project I was able to get a foreign exchange dataset from Kaggle and Pandas library was used to load the dataset as a comma separated values(.csv) file format which was downloaded from Kaggle to our machine."
      ],
      "metadata": {
        "id": "Fi-8k320tpqh"
      }
    },
    {
      "cell_type": "code",
      "source": [
        "df = pd.read_csv('/content/Foreign_Exchange_Rates.csv')"
      ],
      "metadata": {
        "id": "BuEY7bQXtq9x"
      },
      "execution_count": null,
      "outputs": []
    },
    {
      "cell_type": "markdown",
      "source": [
        "# **3. Data Wrangling**"
      ],
      "metadata": {
        "id": "1JSL2kq6uIW8"
      }
    },
    {
      "cell_type": "code",
      "source": [
        "df.head()"
      ],
      "metadata": {
        "colab": {
          "base_uri": "https://localhost:8080/",
          "height": 542
        },
        "id": "I2c6ithQtrAZ",
        "outputId": "942cd22c-fc8e-40c8-abdc-08a06144a37e"
      },
      "execution_count": null,
      "outputs": [
        {
          "output_type": "execute_result",
          "data": {
            "text/plain": [
              "   Unnamed: 0  Time Serie AUSTRALIA - AUSTRALIAN DOLLAR/US$  \\\n",
              "0           0  03-01-2000                            1.5172   \n",
              "1           1  04-01-2000                            1.5239   \n",
              "2           2  05-01-2000                            1.5267   \n",
              "3           3  06-01-2000                            1.5291   \n",
              "4           4  07-01-2000                            1.5272   \n",
              "\n",
              "  EURO AREA - EURO/US$ NEW ZEALAND - NEW ZELAND DOLLAR/US$  \\\n",
              "0               0.9847                              1.9033   \n",
              "1                 0.97                              1.9238   \n",
              "2               0.9676                              1.9339   \n",
              "3               0.9686                              1.9436   \n",
              "4               0.9714                               1.938   \n",
              "\n",
              "  UNITED KINGDOM - UNITED KINGDOM POUND/US$ BRAZIL - REAL/US$  \\\n",
              "0                                    0.6146             1.805   \n",
              "1                                    0.6109            1.8405   \n",
              "2                                    0.6092             1.856   \n",
              "3                                     0.607              1.84   \n",
              "4                                    0.6104             1.831   \n",
              "\n",
              "  CANADA - CANADIAN DOLLAR/US$ CHINA - YUAN/US$  \\\n",
              "0                       1.4465           8.2798   \n",
              "1                       1.4518           8.2799   \n",
              "2                       1.4518           8.2798   \n",
              "3                       1.4571           8.2797   \n",
              "4                       1.4505           8.2794   \n",
              "\n",
              "  HONG KONG - HONG KONG DOLLAR/US$  ... SINGAPORE - SINGAPORE DOLLAR/US$  \\\n",
              "0                           7.7765  ...                           1.6563   \n",
              "1                           7.7775  ...                           1.6535   \n",
              "2                            7.778  ...                            1.656   \n",
              "3                           7.7785  ...                           1.6655   \n",
              "4                           7.7783  ...                           1.6625   \n",
              "\n",
              "  DENMARK - DANISH KRONE/US$ JAPAN - YEN/US$ MALAYSIA - RINGGIT/US$  \\\n",
              "0                      7.329           101.7                    3.8   \n",
              "1                      7.218          103.09                    3.8   \n",
              "2                      7.208          103.77                    3.8   \n",
              "3                     7.2125          105.19                    3.8   \n",
              "4                     7.2285          105.17                    3.8   \n",
              "\n",
              "  NORWAY - NORWEGIAN KRONE/US$ SWEDEN - KRONA/US$  \\\n",
              "0                        7.964              8.443   \n",
              "1                        7.934               8.36   \n",
              "2                        7.935              8.353   \n",
              "3                         7.94             8.3675   \n",
              "4                        7.966              8.415   \n",
              "\n",
              "  SRI LANKA - SRI LANKAN RUPEE/US$ SWITZERLAND - FRANC/US$  \\\n",
              "0                             72.3                  1.5808   \n",
              "1                            72.65                  1.5565   \n",
              "2                            72.95                  1.5526   \n",
              "3                            72.95                   1.554   \n",
              "4                            73.15                  1.5623   \n",
              "\n",
              "  TAIWAN - NEW TAIWAN DOLLAR/US$ THAILAND - BAHT/US$  \n",
              "0                          31.38               36.97  \n",
              "1                           30.6               37.13  \n",
              "2                           30.8                37.1  \n",
              "3                          31.75               37.62  \n",
              "4                          30.85                37.3  \n",
              "\n",
              "[5 rows x 24 columns]"
            ],
            "text/html": [
              "\n",
              "  <div id=\"df-ab5a55f4-0abd-4a95-a1a3-0313c2c51b0d\">\n",
              "    <div class=\"colab-df-container\">\n",
              "      <div>\n",
              "<style scoped>\n",
              "    .dataframe tbody tr th:only-of-type {\n",
              "        vertical-align: middle;\n",
              "    }\n",
              "\n",
              "    .dataframe tbody tr th {\n",
              "        vertical-align: top;\n",
              "    }\n",
              "\n",
              "    .dataframe thead th {\n",
              "        text-align: right;\n",
              "    }\n",
              "</style>\n",
              "<table border=\"1\" class=\"dataframe\">\n",
              "  <thead>\n",
              "    <tr style=\"text-align: right;\">\n",
              "      <th></th>\n",
              "      <th>Unnamed: 0</th>\n",
              "      <th>Time Serie</th>\n",
              "      <th>AUSTRALIA - AUSTRALIAN DOLLAR/US$</th>\n",
              "      <th>EURO AREA - EURO/US$</th>\n",
              "      <th>NEW ZEALAND - NEW ZELAND DOLLAR/US$</th>\n",
              "      <th>UNITED KINGDOM - UNITED KINGDOM POUND/US$</th>\n",
              "      <th>BRAZIL - REAL/US$</th>\n",
              "      <th>CANADA - CANADIAN DOLLAR/US$</th>\n",
              "      <th>CHINA - YUAN/US$</th>\n",
              "      <th>HONG KONG - HONG KONG DOLLAR/US$</th>\n",
              "      <th>...</th>\n",
              "      <th>SINGAPORE - SINGAPORE DOLLAR/US$</th>\n",
              "      <th>DENMARK - DANISH KRONE/US$</th>\n",
              "      <th>JAPAN - YEN/US$</th>\n",
              "      <th>MALAYSIA - RINGGIT/US$</th>\n",
              "      <th>NORWAY - NORWEGIAN KRONE/US$</th>\n",
              "      <th>SWEDEN - KRONA/US$</th>\n",
              "      <th>SRI LANKA - SRI LANKAN RUPEE/US$</th>\n",
              "      <th>SWITZERLAND - FRANC/US$</th>\n",
              "      <th>TAIWAN - NEW TAIWAN DOLLAR/US$</th>\n",
              "      <th>THAILAND - BAHT/US$</th>\n",
              "    </tr>\n",
              "  </thead>\n",
              "  <tbody>\n",
              "    <tr>\n",
              "      <th>0</th>\n",
              "      <td>0</td>\n",
              "      <td>03-01-2000</td>\n",
              "      <td>1.5172</td>\n",
              "      <td>0.9847</td>\n",
              "      <td>1.9033</td>\n",
              "      <td>0.6146</td>\n",
              "      <td>1.805</td>\n",
              "      <td>1.4465</td>\n",
              "      <td>8.2798</td>\n",
              "      <td>7.7765</td>\n",
              "      <td>...</td>\n",
              "      <td>1.6563</td>\n",
              "      <td>7.329</td>\n",
              "      <td>101.7</td>\n",
              "      <td>3.8</td>\n",
              "      <td>7.964</td>\n",
              "      <td>8.443</td>\n",
              "      <td>72.3</td>\n",
              "      <td>1.5808</td>\n",
              "      <td>31.38</td>\n",
              "      <td>36.97</td>\n",
              "    </tr>\n",
              "    <tr>\n",
              "      <th>1</th>\n",
              "      <td>1</td>\n",
              "      <td>04-01-2000</td>\n",
              "      <td>1.5239</td>\n",
              "      <td>0.97</td>\n",
              "      <td>1.9238</td>\n",
              "      <td>0.6109</td>\n",
              "      <td>1.8405</td>\n",
              "      <td>1.4518</td>\n",
              "      <td>8.2799</td>\n",
              "      <td>7.7775</td>\n",
              "      <td>...</td>\n",
              "      <td>1.6535</td>\n",
              "      <td>7.218</td>\n",
              "      <td>103.09</td>\n",
              "      <td>3.8</td>\n",
              "      <td>7.934</td>\n",
              "      <td>8.36</td>\n",
              "      <td>72.65</td>\n",
              "      <td>1.5565</td>\n",
              "      <td>30.6</td>\n",
              "      <td>37.13</td>\n",
              "    </tr>\n",
              "    <tr>\n",
              "      <th>2</th>\n",
              "      <td>2</td>\n",
              "      <td>05-01-2000</td>\n",
              "      <td>1.5267</td>\n",
              "      <td>0.9676</td>\n",
              "      <td>1.9339</td>\n",
              "      <td>0.6092</td>\n",
              "      <td>1.856</td>\n",
              "      <td>1.4518</td>\n",
              "      <td>8.2798</td>\n",
              "      <td>7.778</td>\n",
              "      <td>...</td>\n",
              "      <td>1.656</td>\n",
              "      <td>7.208</td>\n",
              "      <td>103.77</td>\n",
              "      <td>3.8</td>\n",
              "      <td>7.935</td>\n",
              "      <td>8.353</td>\n",
              "      <td>72.95</td>\n",
              "      <td>1.5526</td>\n",
              "      <td>30.8</td>\n",
              "      <td>37.1</td>\n",
              "    </tr>\n",
              "    <tr>\n",
              "      <th>3</th>\n",
              "      <td>3</td>\n",
              "      <td>06-01-2000</td>\n",
              "      <td>1.5291</td>\n",
              "      <td>0.9686</td>\n",
              "      <td>1.9436</td>\n",
              "      <td>0.607</td>\n",
              "      <td>1.84</td>\n",
              "      <td>1.4571</td>\n",
              "      <td>8.2797</td>\n",
              "      <td>7.7785</td>\n",
              "      <td>...</td>\n",
              "      <td>1.6655</td>\n",
              "      <td>7.2125</td>\n",
              "      <td>105.19</td>\n",
              "      <td>3.8</td>\n",
              "      <td>7.94</td>\n",
              "      <td>8.3675</td>\n",
              "      <td>72.95</td>\n",
              "      <td>1.554</td>\n",
              "      <td>31.75</td>\n",
              "      <td>37.62</td>\n",
              "    </tr>\n",
              "    <tr>\n",
              "      <th>4</th>\n",
              "      <td>4</td>\n",
              "      <td>07-01-2000</td>\n",
              "      <td>1.5272</td>\n",
              "      <td>0.9714</td>\n",
              "      <td>1.938</td>\n",
              "      <td>0.6104</td>\n",
              "      <td>1.831</td>\n",
              "      <td>1.4505</td>\n",
              "      <td>8.2794</td>\n",
              "      <td>7.7783</td>\n",
              "      <td>...</td>\n",
              "      <td>1.6625</td>\n",
              "      <td>7.2285</td>\n",
              "      <td>105.17</td>\n",
              "      <td>3.8</td>\n",
              "      <td>7.966</td>\n",
              "      <td>8.415</td>\n",
              "      <td>73.15</td>\n",
              "      <td>1.5623</td>\n",
              "      <td>30.85</td>\n",
              "      <td>37.3</td>\n",
              "    </tr>\n",
              "  </tbody>\n",
              "</table>\n",
              "<p>5 rows × 24 columns</p>\n",
              "</div>\n",
              "      <button class=\"colab-df-convert\" onclick=\"convertToInteractive('df-ab5a55f4-0abd-4a95-a1a3-0313c2c51b0d')\"\n",
              "              title=\"Convert this dataframe to an interactive table.\"\n",
              "              style=\"display:none;\">\n",
              "        \n",
              "  <svg xmlns=\"http://www.w3.org/2000/svg\" height=\"24px\"viewBox=\"0 0 24 24\"\n",
              "       width=\"24px\">\n",
              "    <path d=\"M0 0h24v24H0V0z\" fill=\"none\"/>\n",
              "    <path d=\"M18.56 5.44l.94 2.06.94-2.06 2.06-.94-2.06-.94-.94-2.06-.94 2.06-2.06.94zm-11 1L8.5 8.5l.94-2.06 2.06-.94-2.06-.94L8.5 2.5l-.94 2.06-2.06.94zm10 10l.94 2.06.94-2.06 2.06-.94-2.06-.94-.94-2.06-.94 2.06-2.06.94z\"/><path d=\"M17.41 7.96l-1.37-1.37c-.4-.4-.92-.59-1.43-.59-.52 0-1.04.2-1.43.59L10.3 9.45l-7.72 7.72c-.78.78-.78 2.05 0 2.83L4 21.41c.39.39.9.59 1.41.59.51 0 1.02-.2 1.41-.59l7.78-7.78 2.81-2.81c.8-.78.8-2.07 0-2.86zM5.41 20L4 18.59l7.72-7.72 1.47 1.35L5.41 20z\"/>\n",
              "  </svg>\n",
              "      </button>\n",
              "      \n",
              "  <style>\n",
              "    .colab-df-container {\n",
              "      display:flex;\n",
              "      flex-wrap:wrap;\n",
              "      gap: 12px;\n",
              "    }\n",
              "\n",
              "    .colab-df-convert {\n",
              "      background-color: #E8F0FE;\n",
              "      border: none;\n",
              "      border-radius: 50%;\n",
              "      cursor: pointer;\n",
              "      display: none;\n",
              "      fill: #1967D2;\n",
              "      height: 32px;\n",
              "      padding: 0 0 0 0;\n",
              "      width: 32px;\n",
              "    }\n",
              "\n",
              "    .colab-df-convert:hover {\n",
              "      background-color: #E2EBFA;\n",
              "      box-shadow: 0px 1px 2px rgba(60, 64, 67, 0.3), 0px 1px 3px 1px rgba(60, 64, 67, 0.15);\n",
              "      fill: #174EA6;\n",
              "    }\n",
              "\n",
              "    [theme=dark] .colab-df-convert {\n",
              "      background-color: #3B4455;\n",
              "      fill: #D2E3FC;\n",
              "    }\n",
              "\n",
              "    [theme=dark] .colab-df-convert:hover {\n",
              "      background-color: #434B5C;\n",
              "      box-shadow: 0px 1px 3px 1px rgba(0, 0, 0, 0.15);\n",
              "      filter: drop-shadow(0px 1px 2px rgba(0, 0, 0, 0.3));\n",
              "      fill: #FFFFFF;\n",
              "    }\n",
              "  </style>\n",
              "\n",
              "      <script>\n",
              "        const buttonEl =\n",
              "          document.querySelector('#df-ab5a55f4-0abd-4a95-a1a3-0313c2c51b0d button.colab-df-convert');\n",
              "        buttonEl.style.display =\n",
              "          google.colab.kernel.accessAllowed ? 'block' : 'none';\n",
              "\n",
              "        async function convertToInteractive(key) {\n",
              "          const element = document.querySelector('#df-ab5a55f4-0abd-4a95-a1a3-0313c2c51b0d');\n",
              "          const dataTable =\n",
              "            await google.colab.kernel.invokeFunction('convertToInteractive',\n",
              "                                                     [key], {});\n",
              "          if (!dataTable) return;\n",
              "\n",
              "          const docLinkHtml = 'Like what you see? Visit the ' +\n",
              "            '<a target=\"_blank\" href=https://colab.research.google.com/notebooks/data_table.ipynb>data table notebook</a>'\n",
              "            + ' to learn more about interactive tables.';\n",
              "          element.innerHTML = '';\n",
              "          dataTable['output_type'] = 'display_data';\n",
              "          await google.colab.output.renderOutput(dataTable, element);\n",
              "          const docLink = document.createElement('div');\n",
              "          docLink.innerHTML = docLinkHtml;\n",
              "          element.appendChild(docLink);\n",
              "        }\n",
              "      </script>\n",
              "    </div>\n",
              "  </div>\n",
              "  "
            ]
          },
          "metadata": {},
          "execution_count": 321
        }
      ]
    },
    {
      "cell_type": "code",
      "source": [
        "print(\"There are {} rows and {} columns in the dataset.\".format(df.shape[0], df.shape[1]))"
      ],
      "metadata": {
        "colab": {
          "base_uri": "https://localhost:8080/"
        },
        "id": "SqoB9TnItrDP",
        "outputId": "0ceb3b62-3065-4bd7-bda6-b542782faedb"
      },
      "execution_count": null,
      "outputs": [
        {
          "output_type": "stream",
          "name": "stdout",
          "text": [
            "There are 5217 rows and 24 columns in the dataset.\n"
          ]
        }
      ]
    },
    {
      "cell_type": "code",
      "source": [
        "df.drop('Unnamed: 0', axis=1, inplace=True)"
      ],
      "metadata": {
        "id": "ZqfPsdDetrF5"
      },
      "execution_count": null,
      "outputs": []
    },
    {
      "cell_type": "code",
      "source": [
        "df.columns"
      ],
      "metadata": {
        "colab": {
          "base_uri": "https://localhost:8080/"
        },
        "id": "ZzgpJykQtrIs",
        "outputId": "79143b27-b3c6-47a9-dfa8-149df79c2deb"
      },
      "execution_count": null,
      "outputs": [
        {
          "output_type": "execute_result",
          "data": {
            "text/plain": [
              "Index(['Time Serie', 'AUSTRALIA - AUSTRALIAN DOLLAR/US$',\n",
              "       'EURO AREA - EURO/US$', 'NEW ZEALAND - NEW ZELAND DOLLAR/US$',\n",
              "       'UNITED KINGDOM - UNITED KINGDOM POUND/US$', 'BRAZIL - REAL/US$',\n",
              "       'CANADA - CANADIAN DOLLAR/US$', 'CHINA - YUAN/US$',\n",
              "       'HONG KONG - HONG KONG DOLLAR/US$', 'INDIA - INDIAN RUPEE/US$',\n",
              "       'KOREA - WON/US$', 'MEXICO - MEXICAN PESO/US$',\n",
              "       'SOUTH AFRICA - RAND/US$', 'SINGAPORE - SINGAPORE DOLLAR/US$',\n",
              "       'DENMARK - DANISH KRONE/US$', 'JAPAN - YEN/US$',\n",
              "       'MALAYSIA - RINGGIT/US$', 'NORWAY - NORWEGIAN KRONE/US$',\n",
              "       'SWEDEN - KRONA/US$', 'SRI LANKA - SRI LANKAN RUPEE/US$',\n",
              "       'SWITZERLAND - FRANC/US$', 'TAIWAN - NEW TAIWAN DOLLAR/US$',\n",
              "       'THAILAND - BAHT/US$'],\n",
              "      dtype='object')"
            ]
          },
          "metadata": {},
          "execution_count": 324
        }
      ]
    },
    {
      "cell_type": "markdown",
      "source": [
        "Let's extract one country's data and try to understand its behaviour. We'll take UK for illustration purpose. All our EDA and model building will revolve around UK."
      ],
      "metadata": {
        "id": "wCdE9vTExWR4"
      }
    },
    {
      "cell_type": "code",
      "source": [
        "data = df[['Time Serie', 'UNITED KINGDOM - UNITED KINGDOM POUND/US$']]\n",
        "data.columns = ['date', 'rate']"
      ],
      "metadata": {
        "id": "LXoC0VBOtrLZ"
      },
      "execution_count": null,
      "outputs": []
    },
    {
      "cell_type": "code",
      "source": [
        "data.head(15)"
      ],
      "metadata": {
        "colab": {
          "base_uri": "https://localhost:8080/",
          "height": 520
        },
        "id": "OSARREwTxm-5",
        "outputId": "93708b63-a681-4abe-a883-66ff67c5e319"
      },
      "execution_count": null,
      "outputs": [
        {
          "output_type": "execute_result",
          "data": {
            "text/plain": [
              "          date    rate\n",
              "0   03-01-2000  0.6146\n",
              "1   04-01-2000  0.6109\n",
              "2   05-01-2000  0.6092\n",
              "3   06-01-2000   0.607\n",
              "4   07-01-2000  0.6104\n",
              "5   10-01-2000  0.6107\n",
              "6   11-01-2000  0.6068\n",
              "7   12-01-2000  0.6073\n",
              "8   13-01-2000  0.6067\n",
              "9   14-01-2000  0.6115\n",
              "10  17-01-2000      ND\n",
              "11  18-01-2000  0.6105\n",
              "12  19-01-2000  0.6083\n",
              "13  20-01-2000  0.6047\n",
              "14  21-01-2000  0.6059"
            ],
            "text/html": [
              "\n",
              "  <div id=\"df-a4eda0c9-1a29-44bb-8148-9d6d7a99024c\">\n",
              "    <div class=\"colab-df-container\">\n",
              "      <div>\n",
              "<style scoped>\n",
              "    .dataframe tbody tr th:only-of-type {\n",
              "        vertical-align: middle;\n",
              "    }\n",
              "\n",
              "    .dataframe tbody tr th {\n",
              "        vertical-align: top;\n",
              "    }\n",
              "\n",
              "    .dataframe thead th {\n",
              "        text-align: right;\n",
              "    }\n",
              "</style>\n",
              "<table border=\"1\" class=\"dataframe\">\n",
              "  <thead>\n",
              "    <tr style=\"text-align: right;\">\n",
              "      <th></th>\n",
              "      <th>date</th>\n",
              "      <th>rate</th>\n",
              "    </tr>\n",
              "  </thead>\n",
              "  <tbody>\n",
              "    <tr>\n",
              "      <th>0</th>\n",
              "      <td>03-01-2000</td>\n",
              "      <td>0.6146</td>\n",
              "    </tr>\n",
              "    <tr>\n",
              "      <th>1</th>\n",
              "      <td>04-01-2000</td>\n",
              "      <td>0.6109</td>\n",
              "    </tr>\n",
              "    <tr>\n",
              "      <th>2</th>\n",
              "      <td>05-01-2000</td>\n",
              "      <td>0.6092</td>\n",
              "    </tr>\n",
              "    <tr>\n",
              "      <th>3</th>\n",
              "      <td>06-01-2000</td>\n",
              "      <td>0.607</td>\n",
              "    </tr>\n",
              "    <tr>\n",
              "      <th>4</th>\n",
              "      <td>07-01-2000</td>\n",
              "      <td>0.6104</td>\n",
              "    </tr>\n",
              "    <tr>\n",
              "      <th>5</th>\n",
              "      <td>10-01-2000</td>\n",
              "      <td>0.6107</td>\n",
              "    </tr>\n",
              "    <tr>\n",
              "      <th>6</th>\n",
              "      <td>11-01-2000</td>\n",
              "      <td>0.6068</td>\n",
              "    </tr>\n",
              "    <tr>\n",
              "      <th>7</th>\n",
              "      <td>12-01-2000</td>\n",
              "      <td>0.6073</td>\n",
              "    </tr>\n",
              "    <tr>\n",
              "      <th>8</th>\n",
              "      <td>13-01-2000</td>\n",
              "      <td>0.6067</td>\n",
              "    </tr>\n",
              "    <tr>\n",
              "      <th>9</th>\n",
              "      <td>14-01-2000</td>\n",
              "      <td>0.6115</td>\n",
              "    </tr>\n",
              "    <tr>\n",
              "      <th>10</th>\n",
              "      <td>17-01-2000</td>\n",
              "      <td>ND</td>\n",
              "    </tr>\n",
              "    <tr>\n",
              "      <th>11</th>\n",
              "      <td>18-01-2000</td>\n",
              "      <td>0.6105</td>\n",
              "    </tr>\n",
              "    <tr>\n",
              "      <th>12</th>\n",
              "      <td>19-01-2000</td>\n",
              "      <td>0.6083</td>\n",
              "    </tr>\n",
              "    <tr>\n",
              "      <th>13</th>\n",
              "      <td>20-01-2000</td>\n",
              "      <td>0.6047</td>\n",
              "    </tr>\n",
              "    <tr>\n",
              "      <th>14</th>\n",
              "      <td>21-01-2000</td>\n",
              "      <td>0.6059</td>\n",
              "    </tr>\n",
              "  </tbody>\n",
              "</table>\n",
              "</div>\n",
              "      <button class=\"colab-df-convert\" onclick=\"convertToInteractive('df-a4eda0c9-1a29-44bb-8148-9d6d7a99024c')\"\n",
              "              title=\"Convert this dataframe to an interactive table.\"\n",
              "              style=\"display:none;\">\n",
              "        \n",
              "  <svg xmlns=\"http://www.w3.org/2000/svg\" height=\"24px\"viewBox=\"0 0 24 24\"\n",
              "       width=\"24px\">\n",
              "    <path d=\"M0 0h24v24H0V0z\" fill=\"none\"/>\n",
              "    <path d=\"M18.56 5.44l.94 2.06.94-2.06 2.06-.94-2.06-.94-.94-2.06-.94 2.06-2.06.94zm-11 1L8.5 8.5l.94-2.06 2.06-.94-2.06-.94L8.5 2.5l-.94 2.06-2.06.94zm10 10l.94 2.06.94-2.06 2.06-.94-2.06-.94-.94-2.06-.94 2.06-2.06.94z\"/><path d=\"M17.41 7.96l-1.37-1.37c-.4-.4-.92-.59-1.43-.59-.52 0-1.04.2-1.43.59L10.3 9.45l-7.72 7.72c-.78.78-.78 2.05 0 2.83L4 21.41c.39.39.9.59 1.41.59.51 0 1.02-.2 1.41-.59l7.78-7.78 2.81-2.81c.8-.78.8-2.07 0-2.86zM5.41 20L4 18.59l7.72-7.72 1.47 1.35L5.41 20z\"/>\n",
              "  </svg>\n",
              "      </button>\n",
              "      \n",
              "  <style>\n",
              "    .colab-df-container {\n",
              "      display:flex;\n",
              "      flex-wrap:wrap;\n",
              "      gap: 12px;\n",
              "    }\n",
              "\n",
              "    .colab-df-convert {\n",
              "      background-color: #E8F0FE;\n",
              "      border: none;\n",
              "      border-radius: 50%;\n",
              "      cursor: pointer;\n",
              "      display: none;\n",
              "      fill: #1967D2;\n",
              "      height: 32px;\n",
              "      padding: 0 0 0 0;\n",
              "      width: 32px;\n",
              "    }\n",
              "\n",
              "    .colab-df-convert:hover {\n",
              "      background-color: #E2EBFA;\n",
              "      box-shadow: 0px 1px 2px rgba(60, 64, 67, 0.3), 0px 1px 3px 1px rgba(60, 64, 67, 0.15);\n",
              "      fill: #174EA6;\n",
              "    }\n",
              "\n",
              "    [theme=dark] .colab-df-convert {\n",
              "      background-color: #3B4455;\n",
              "      fill: #D2E3FC;\n",
              "    }\n",
              "\n",
              "    [theme=dark] .colab-df-convert:hover {\n",
              "      background-color: #434B5C;\n",
              "      box-shadow: 0px 1px 3px 1px rgba(0, 0, 0, 0.15);\n",
              "      filter: drop-shadow(0px 1px 2px rgba(0, 0, 0, 0.3));\n",
              "      fill: #FFFFFF;\n",
              "    }\n",
              "  </style>\n",
              "\n",
              "      <script>\n",
              "        const buttonEl =\n",
              "          document.querySelector('#df-a4eda0c9-1a29-44bb-8148-9d6d7a99024c button.colab-df-convert');\n",
              "        buttonEl.style.display =\n",
              "          google.colab.kernel.accessAllowed ? 'block' : 'none';\n",
              "\n",
              "        async function convertToInteractive(key) {\n",
              "          const element = document.querySelector('#df-a4eda0c9-1a29-44bb-8148-9d6d7a99024c');\n",
              "          const dataTable =\n",
              "            await google.colab.kernel.invokeFunction('convertToInteractive',\n",
              "                                                     [key], {});\n",
              "          if (!dataTable) return;\n",
              "\n",
              "          const docLinkHtml = 'Like what you see? Visit the ' +\n",
              "            '<a target=\"_blank\" href=https://colab.research.google.com/notebooks/data_table.ipynb>data table notebook</a>'\n",
              "            + ' to learn more about interactive tables.';\n",
              "          element.innerHTML = '';\n",
              "          dataTable['output_type'] = 'display_data';\n",
              "          await google.colab.output.renderOutput(dataTable, element);\n",
              "          const docLink = document.createElement('div');\n",
              "          docLink.innerHTML = docLinkHtml;\n",
              "          element.appendChild(docLink);\n",
              "        }\n",
              "      </script>\n",
              "    </div>\n",
              "  </div>\n",
              "  "
            ]
          },
          "metadata": {},
          "execution_count": 326
        }
      ]
    },
    {
      "cell_type": "code",
      "source": [
        "data.info()"
      ],
      "metadata": {
        "colab": {
          "base_uri": "https://localhost:8080/"
        },
        "id": "y0g3yxnpxnEJ",
        "outputId": "21175036-3f07-437e-f979-23d3a1648bfc"
      },
      "execution_count": null,
      "outputs": [
        {
          "output_type": "stream",
          "name": "stdout",
          "text": [
            "<class 'pandas.core.frame.DataFrame'>\n",
            "RangeIndex: 5217 entries, 0 to 5216\n",
            "Data columns (total 2 columns):\n",
            " #   Column  Non-Null Count  Dtype \n",
            "---  ------  --------------  ----- \n",
            " 0   date    5217 non-null   object\n",
            " 1   rate    5217 non-null   object\n",
            "dtypes: object(2)\n",
            "memory usage: 81.6+ KB\n"
          ]
        }
      ]
    },
    {
      "cell_type": "code",
      "source": [
        "data.rate.describe()"
      ],
      "metadata": {
        "colab": {
          "base_uri": "https://localhost:8080/"
        },
        "id": "cEe797cHxnG4",
        "outputId": "93937b04-bcf0-4905-f307-7f18452c1602"
      },
      "execution_count": null,
      "outputs": [
        {
          "output_type": "execute_result",
          "data": {
            "text/plain": [
              "count     5217\n",
              "unique    2303\n",
              "top         ND\n",
              "freq       198\n",
              "Name: rate, dtype: object"
            ]
          },
          "metadata": {},
          "execution_count": 328
        }
      ]
    },
    {
      "cell_type": "markdown",
      "source": [
        "On looking at the datatype for our variables using the .info() method, we see that both the variables are of Object type. In order to perform our analysis, we’ll have to change the datatypes of both the columns.\n"
      ],
      "metadata": {
        "id": "15rjHaGsyKcR"
      }
    },
    {
      "cell_type": "markdown",
      "source": [
        "**Note: We can see that we have some value 'ND**' in our dataset. Let's remove these values to ensure we are able to make forecasting accurately. We are not sure of what ND means (Maybe it stands for No Data).\n",
        "We'll first replace the ND with NaN and then impute some other values instead of NaN."
      ],
      "metadata": {
        "id": "IkuY8tIJDw5F"
      }
    },
    {
      "cell_type": "code",
      "source": [
        "# Replacing the ND values with NaN values.\n",
        "data.rate.replace('ND', np.nan, inplace=True)"
      ],
      "metadata": {
        "id": "4489Jj9MDykq"
      },
      "execution_count": null,
      "outputs": []
    },
    {
      "cell_type": "code",
      "source": [
        "# We can see that there are a total of 198 NaN values in our dataset.\n",
        "data.rate.isna().sum()"
      ],
      "metadata": {
        "colab": {
          "base_uri": "https://localhost:8080/"
        },
        "id": "7akyGRPpDyng",
        "outputId": "670767f3-8e60-4a72-95c4-1add4c1ed243"
      },
      "execution_count": null,
      "outputs": [
        {
          "output_type": "execute_result",
          "data": {
            "text/plain": [
              "198"
            ]
          },
          "metadata": {},
          "execution_count": 330
        }
      ]
    },
    {
      "cell_type": "markdown",
      "source": [
        "We have successfully replaced all the ND values in our dataset with NaN value. Let's now work on replacing these null values with some method or other."
      ],
      "metadata": {
        "id": "fy99XyA9D5VN"
      }
    },
    {
      "cell_type": "code",
      "source": [
        "# Converting the datatype from Object to datetime and numeric.\n",
        "from datetime import datetime, date \n",
        "data['date'] = pd.to_datetime(data.date, format = '%d-%m-%Y')\n",
        "data['rate'] = pd.to_numeric(data.rate)"
      ],
      "metadata": {
        "id": "uWz0PuArFb_H"
      },
      "execution_count": null,
      "outputs": []
    },
    {
      "cell_type": "code",
      "source": [
        "# Checking the data type of variables after making the changes.\n",
        "data.info()"
      ],
      "metadata": {
        "colab": {
          "base_uri": "https://localhost:8080/"
        },
        "id": "4SIJuY9lFCLk",
        "outputId": "d9c5f05d-cbfc-4af0-e161-2a2a36360f8c"
      },
      "execution_count": null,
      "outputs": [
        {
          "output_type": "stream",
          "name": "stdout",
          "text": [
            "<class 'pandas.core.frame.DataFrame'>\n",
            "RangeIndex: 5217 entries, 0 to 5216\n",
            "Data columns (total 2 columns):\n",
            " #   Column  Non-Null Count  Dtype         \n",
            "---  ------  --------------  -----         \n",
            " 0   date    5217 non-null   datetime64[ns]\n",
            " 1   rate    5019 non-null   float64       \n",
            "dtypes: datetime64[ns](1), float64(1)\n",
            "memory usage: 81.6 KB\n"
          ]
        }
      ]
    },
    {
      "cell_type": "code",
      "source": [
        "# Since we have NaN values in our dataset, we can replace them using the\n",
        "# interpolate() function to fill in our missing values.\n",
        "data['rate'] = data['rate'].interpolate()"
      ],
      "metadata": {
        "id": "KnzOilQW77hw"
      },
      "execution_count": null,
      "outputs": []
    },
    {
      "cell_type": "code",
      "source": [
        "# Sort values by timestamp (not necessary in this case)\n",
        "df = data.sort_values(by='date')\n",
        "\n",
        "# Check time intervals\n",
        "df['Time_Interval'] = data.date - data.date.shift(1)\n",
        "\n",
        "df[['date', 'Time_Interval']].head()"
      ],
      "metadata": {
        "colab": {
          "base_uri": "https://localhost:8080/",
          "height": 206
        },
        "id": "86wLNc7U9SMm",
        "outputId": "475c6d40-21e2-49fb-9fef-f99df0958eae"
      },
      "execution_count": null,
      "outputs": [
        {
          "output_type": "execute_result",
          "data": {
            "text/plain": [
              "        date Time_Interval\n",
              "0 2000-01-03           NaT\n",
              "1 2000-01-04        1 days\n",
              "2 2000-01-05        1 days\n",
              "3 2000-01-06        1 days\n",
              "4 2000-01-07        1 days"
            ],
            "text/html": [
              "\n",
              "  <div id=\"df-bd00736a-805b-4e37-b13e-abca47c2c260\">\n",
              "    <div class=\"colab-df-container\">\n",
              "      <div>\n",
              "<style scoped>\n",
              "    .dataframe tbody tr th:only-of-type {\n",
              "        vertical-align: middle;\n",
              "    }\n",
              "\n",
              "    .dataframe tbody tr th {\n",
              "        vertical-align: top;\n",
              "    }\n",
              "\n",
              "    .dataframe thead th {\n",
              "        text-align: right;\n",
              "    }\n",
              "</style>\n",
              "<table border=\"1\" class=\"dataframe\">\n",
              "  <thead>\n",
              "    <tr style=\"text-align: right;\">\n",
              "      <th></th>\n",
              "      <th>date</th>\n",
              "      <th>Time_Interval</th>\n",
              "    </tr>\n",
              "  </thead>\n",
              "  <tbody>\n",
              "    <tr>\n",
              "      <th>0</th>\n",
              "      <td>2000-01-03</td>\n",
              "      <td>NaT</td>\n",
              "    </tr>\n",
              "    <tr>\n",
              "      <th>1</th>\n",
              "      <td>2000-01-04</td>\n",
              "      <td>1 days</td>\n",
              "    </tr>\n",
              "    <tr>\n",
              "      <th>2</th>\n",
              "      <td>2000-01-05</td>\n",
              "      <td>1 days</td>\n",
              "    </tr>\n",
              "    <tr>\n",
              "      <th>3</th>\n",
              "      <td>2000-01-06</td>\n",
              "      <td>1 days</td>\n",
              "    </tr>\n",
              "    <tr>\n",
              "      <th>4</th>\n",
              "      <td>2000-01-07</td>\n",
              "      <td>1 days</td>\n",
              "    </tr>\n",
              "  </tbody>\n",
              "</table>\n",
              "</div>\n",
              "      <button class=\"colab-df-convert\" onclick=\"convertToInteractive('df-bd00736a-805b-4e37-b13e-abca47c2c260')\"\n",
              "              title=\"Convert this dataframe to an interactive table.\"\n",
              "              style=\"display:none;\">\n",
              "        \n",
              "  <svg xmlns=\"http://www.w3.org/2000/svg\" height=\"24px\"viewBox=\"0 0 24 24\"\n",
              "       width=\"24px\">\n",
              "    <path d=\"M0 0h24v24H0V0z\" fill=\"none\"/>\n",
              "    <path d=\"M18.56 5.44l.94 2.06.94-2.06 2.06-.94-2.06-.94-.94-2.06-.94 2.06-2.06.94zm-11 1L8.5 8.5l.94-2.06 2.06-.94-2.06-.94L8.5 2.5l-.94 2.06-2.06.94zm10 10l.94 2.06.94-2.06 2.06-.94-2.06-.94-.94-2.06-.94 2.06-2.06.94z\"/><path d=\"M17.41 7.96l-1.37-1.37c-.4-.4-.92-.59-1.43-.59-.52 0-1.04.2-1.43.59L10.3 9.45l-7.72 7.72c-.78.78-.78 2.05 0 2.83L4 21.41c.39.39.9.59 1.41.59.51 0 1.02-.2 1.41-.59l7.78-7.78 2.81-2.81c.8-.78.8-2.07 0-2.86zM5.41 20L4 18.59l7.72-7.72 1.47 1.35L5.41 20z\"/>\n",
              "  </svg>\n",
              "      </button>\n",
              "      \n",
              "  <style>\n",
              "    .colab-df-container {\n",
              "      display:flex;\n",
              "      flex-wrap:wrap;\n",
              "      gap: 12px;\n",
              "    }\n",
              "\n",
              "    .colab-df-convert {\n",
              "      background-color: #E8F0FE;\n",
              "      border: none;\n",
              "      border-radius: 50%;\n",
              "      cursor: pointer;\n",
              "      display: none;\n",
              "      fill: #1967D2;\n",
              "      height: 32px;\n",
              "      padding: 0 0 0 0;\n",
              "      width: 32px;\n",
              "    }\n",
              "\n",
              "    .colab-df-convert:hover {\n",
              "      background-color: #E2EBFA;\n",
              "      box-shadow: 0px 1px 2px rgba(60, 64, 67, 0.3), 0px 1px 3px 1px rgba(60, 64, 67, 0.15);\n",
              "      fill: #174EA6;\n",
              "    }\n",
              "\n",
              "    [theme=dark] .colab-df-convert {\n",
              "      background-color: #3B4455;\n",
              "      fill: #D2E3FC;\n",
              "    }\n",
              "\n",
              "    [theme=dark] .colab-df-convert:hover {\n",
              "      background-color: #434B5C;\n",
              "      box-shadow: 0px 1px 3px 1px rgba(0, 0, 0, 0.15);\n",
              "      filter: drop-shadow(0px 1px 2px rgba(0, 0, 0, 0.3));\n",
              "      fill: #FFFFFF;\n",
              "    }\n",
              "  </style>\n",
              "\n",
              "      <script>\n",
              "        const buttonEl =\n",
              "          document.querySelector('#df-bd00736a-805b-4e37-b13e-abca47c2c260 button.colab-df-convert');\n",
              "        buttonEl.style.display =\n",
              "          google.colab.kernel.accessAllowed ? 'block' : 'none';\n",
              "\n",
              "        async function convertToInteractive(key) {\n",
              "          const element = document.querySelector('#df-bd00736a-805b-4e37-b13e-abca47c2c260');\n",
              "          const dataTable =\n",
              "            await google.colab.kernel.invokeFunction('convertToInteractive',\n",
              "                                                     [key], {});\n",
              "          if (!dataTable) return;\n",
              "\n",
              "          const docLinkHtml = 'Like what you see? Visit the ' +\n",
              "            '<a target=\"_blank\" href=https://colab.research.google.com/notebooks/data_table.ipynb>data table notebook</a>'\n",
              "            + ' to learn more about interactive tables.';\n",
              "          element.innerHTML = '';\n",
              "          dataTable['output_type'] = 'display_data';\n",
              "          await google.colab.output.renderOutput(dataTable, element);\n",
              "          const docLink = document.createElement('div');\n",
              "          docLink.innerHTML = docLinkHtml;\n",
              "          element.appendChild(docLink);\n",
              "        }\n",
              "      </script>\n",
              "    </div>\n",
              "  </div>\n",
              "  "
            ]
          },
          "metadata": {},
          "execution_count": 334
        }
      ]
    },
    {
      "cell_type": "code",
      "source": [
        "print(f\"{df['Time_Interval'].value_counts()}\")\n",
        "df = df.drop('Time_Interval', axis=1)"
      ],
      "metadata": {
        "colab": {
          "base_uri": "https://localhost:8080/"
        },
        "id": "pvfZsnx29hfo",
        "outputId": "b003339d-19b6-4bcd-e5b5-506e9207612c"
      },
      "execution_count": null,
      "outputs": [
        {
          "output_type": "stream",
          "name": "stdout",
          "text": [
            "1 days    4173\n",
            "3 days    1043\n",
            "Name: Time_Interval, dtype: int64\n"
          ]
        }
      ]
    },
    {
      "cell_type": "markdown",
      "source": [
        "There is a difference of 3 between the number of days other than 1 in our dataset. This is simply because of the fact that stock market is closed on weekends."
      ],
      "metadata": {
        "id": "prZ5qznOAbIA"
      }
    },
    {
      "cell_type": "markdown",
      "source": [
        "Since we have missing data for every 2 days of our week, we can downsample our dataset from days to weeks for better analysis and forecasting."
      ],
      "metadata": {
        "id": "_w6WFYS6IRWe"
      }
    },
    {
      "cell_type": "code",
      "source": [
        "data.set_index('date', inplace=True)"
      ],
      "metadata": {
        "id": "hS_owiB1J-kC"
      },
      "execution_count": null,
      "outputs": []
    },
    {
      "cell_type": "code",
      "source": [
        "# Resampling the data from days to week using the resmaple() method.\n",
        "data = data.resample('W-MON', label='left', closed='left').mean()"
      ],
      "metadata": {
        "id": "O4mey7vRIMBA"
      },
      "execution_count": null,
      "outputs": []
    },
    {
      "cell_type": "code",
      "source": [
        "data.head()"
      ],
      "metadata": {
        "colab": {
          "base_uri": "https://localhost:8080/",
          "height": 237
        },
        "id": "g0mzmwlVIMD6",
        "outputId": "a2b4c229-30af-4e78-ce03-11fcd029233a"
      },
      "execution_count": null,
      "outputs": [
        {
          "output_type": "execute_result",
          "data": {
            "text/plain": [
              "               rate\n",
              "date               \n",
              "2000-01-03  0.61042\n",
              "2000-01-10  0.60860\n",
              "2000-01-17  0.60808\n",
              "2000-01-24  0.60998\n",
              "2000-01-31  0.62244"
            ],
            "text/html": [
              "\n",
              "  <div id=\"df-47105e3f-ff00-4301-baa7-b0b7ac643aa1\">\n",
              "    <div class=\"colab-df-container\">\n",
              "      <div>\n",
              "<style scoped>\n",
              "    .dataframe tbody tr th:only-of-type {\n",
              "        vertical-align: middle;\n",
              "    }\n",
              "\n",
              "    .dataframe tbody tr th {\n",
              "        vertical-align: top;\n",
              "    }\n",
              "\n",
              "    .dataframe thead th {\n",
              "        text-align: right;\n",
              "    }\n",
              "</style>\n",
              "<table border=\"1\" class=\"dataframe\">\n",
              "  <thead>\n",
              "    <tr style=\"text-align: right;\">\n",
              "      <th></th>\n",
              "      <th>rate</th>\n",
              "    </tr>\n",
              "    <tr>\n",
              "      <th>date</th>\n",
              "      <th></th>\n",
              "    </tr>\n",
              "  </thead>\n",
              "  <tbody>\n",
              "    <tr>\n",
              "      <th>2000-01-03</th>\n",
              "      <td>0.61042</td>\n",
              "    </tr>\n",
              "    <tr>\n",
              "      <th>2000-01-10</th>\n",
              "      <td>0.60860</td>\n",
              "    </tr>\n",
              "    <tr>\n",
              "      <th>2000-01-17</th>\n",
              "      <td>0.60808</td>\n",
              "    </tr>\n",
              "    <tr>\n",
              "      <th>2000-01-24</th>\n",
              "      <td>0.60998</td>\n",
              "    </tr>\n",
              "    <tr>\n",
              "      <th>2000-01-31</th>\n",
              "      <td>0.62244</td>\n",
              "    </tr>\n",
              "  </tbody>\n",
              "</table>\n",
              "</div>\n",
              "      <button class=\"colab-df-convert\" onclick=\"convertToInteractive('df-47105e3f-ff00-4301-baa7-b0b7ac643aa1')\"\n",
              "              title=\"Convert this dataframe to an interactive table.\"\n",
              "              style=\"display:none;\">\n",
              "        \n",
              "  <svg xmlns=\"http://www.w3.org/2000/svg\" height=\"24px\"viewBox=\"0 0 24 24\"\n",
              "       width=\"24px\">\n",
              "    <path d=\"M0 0h24v24H0V0z\" fill=\"none\"/>\n",
              "    <path d=\"M18.56 5.44l.94 2.06.94-2.06 2.06-.94-2.06-.94-.94-2.06-.94 2.06-2.06.94zm-11 1L8.5 8.5l.94-2.06 2.06-.94-2.06-.94L8.5 2.5l-.94 2.06-2.06.94zm10 10l.94 2.06.94-2.06 2.06-.94-2.06-.94-.94-2.06-.94 2.06-2.06.94z\"/><path d=\"M17.41 7.96l-1.37-1.37c-.4-.4-.92-.59-1.43-.59-.52 0-1.04.2-1.43.59L10.3 9.45l-7.72 7.72c-.78.78-.78 2.05 0 2.83L4 21.41c.39.39.9.59 1.41.59.51 0 1.02-.2 1.41-.59l7.78-7.78 2.81-2.81c.8-.78.8-2.07 0-2.86zM5.41 20L4 18.59l7.72-7.72 1.47 1.35L5.41 20z\"/>\n",
              "  </svg>\n",
              "      </button>\n",
              "      \n",
              "  <style>\n",
              "    .colab-df-container {\n",
              "      display:flex;\n",
              "      flex-wrap:wrap;\n",
              "      gap: 12px;\n",
              "    }\n",
              "\n",
              "    .colab-df-convert {\n",
              "      background-color: #E8F0FE;\n",
              "      border: none;\n",
              "      border-radius: 50%;\n",
              "      cursor: pointer;\n",
              "      display: none;\n",
              "      fill: #1967D2;\n",
              "      height: 32px;\n",
              "      padding: 0 0 0 0;\n",
              "      width: 32px;\n",
              "    }\n",
              "\n",
              "    .colab-df-convert:hover {\n",
              "      background-color: #E2EBFA;\n",
              "      box-shadow: 0px 1px 2px rgba(60, 64, 67, 0.3), 0px 1px 3px 1px rgba(60, 64, 67, 0.15);\n",
              "      fill: #174EA6;\n",
              "    }\n",
              "\n",
              "    [theme=dark] .colab-df-convert {\n",
              "      background-color: #3B4455;\n",
              "      fill: #D2E3FC;\n",
              "    }\n",
              "\n",
              "    [theme=dark] .colab-df-convert:hover {\n",
              "      background-color: #434B5C;\n",
              "      box-shadow: 0px 1px 3px 1px rgba(0, 0, 0, 0.15);\n",
              "      filter: drop-shadow(0px 1px 2px rgba(0, 0, 0, 0.3));\n",
              "      fill: #FFFFFF;\n",
              "    }\n",
              "  </style>\n",
              "\n",
              "      <script>\n",
              "        const buttonEl =\n",
              "          document.querySelector('#df-47105e3f-ff00-4301-baa7-b0b7ac643aa1 button.colab-df-convert');\n",
              "        buttonEl.style.display =\n",
              "          google.colab.kernel.accessAllowed ? 'block' : 'none';\n",
              "\n",
              "        async function convertToInteractive(key) {\n",
              "          const element = document.querySelector('#df-47105e3f-ff00-4301-baa7-b0b7ac643aa1');\n",
              "          const dataTable =\n",
              "            await google.colab.kernel.invokeFunction('convertToInteractive',\n",
              "                                                     [key], {});\n",
              "          if (!dataTable) return;\n",
              "\n",
              "          const docLinkHtml = 'Like what you see? Visit the ' +\n",
              "            '<a target=\"_blank\" href=https://colab.research.google.com/notebooks/data_table.ipynb>data table notebook</a>'\n",
              "            + ' to learn more about interactive tables.';\n",
              "          element.innerHTML = '';\n",
              "          dataTable['output_type'] = 'display_data';\n",
              "          await google.colab.output.renderOutput(dataTable, element);\n",
              "          const docLink = document.createElement('div');\n",
              "          docLink.innerHTML = docLinkHtml;\n",
              "          element.appendChild(docLink);\n",
              "        }\n",
              "      </script>\n",
              "    </div>\n",
              "  </div>\n",
              "  "
            ]
          },
          "metadata": {},
          "execution_count": 338
        }
      ]
    },
    {
      "cell_type": "markdown",
      "source": [
        "Let's make a copy of our dataset in case we might need it for future purposes."
      ],
      "metadata": {
        "id": "utIGiktbYEgi"
      }
    },
    {
      "cell_type": "code",
      "source": [
        "data1 = data.copy()"
      ],
      "metadata": {
        "id": "md2AhFxHYCjD"
      },
      "execution_count": null,
      "outputs": []
    },
    {
      "cell_type": "markdown",
      "source": [
        "# **3. Exploratory Data Analysis**"
      ],
      "metadata": {
        "id": "lG0YpZX4uk8C"
      }
    },
    {
      "cell_type": "code",
      "source": [
        "plt.figure(figsize=(10,5))\n",
        "sns.distplot(data.rate, bins=10, color='steelblue')"
      ],
      "metadata": {
        "colab": {
          "base_uri": "https://localhost:8080/",
          "height": 351
        },
        "id": "qRcgRqzZtrQ5",
        "outputId": "a5642dea-9938-46b8-f9f0-343ab09aad0f"
      },
      "execution_count": null,
      "outputs": [
        {
          "output_type": "execute_result",
          "data": {
            "text/plain": [
              "<matplotlib.axes._subplots.AxesSubplot at 0x7f40a20ac110>"
            ]
          },
          "metadata": {},
          "execution_count": 340
        },
        {
          "output_type": "display_data",
          "data": {
            "text/plain": [
              "<Figure size 720x360 with 1 Axes>"
            ],
            "image/png": "[encoded data removed]"
          },
          "metadata": {
            "needs_background": "light"
          }
        }
      ]
    },
    {
      "cell_type": "markdown",
      "source": [
        "From the above graph, we can see that our UK Exchange Rates follows more or less a Gaussian Distribution.\n"
      ],
      "metadata": {
        "id": "3w4_WTTby-uP"
      }
    },
    {
      "cell_type": "code",
      "source": [
        "plt.figure(figsize=(15,7))\n",
        "sns.lineplot(x = data.index, y= data.rate)"
      ],
      "metadata": {
        "colab": {
          "base_uri": "https://localhost:8080/",
          "height": 459
        },
        "id": "teC377Tny92q",
        "outputId": "aaf5e016-90a1-4a13-b49b-de73121f6b72"
      },
      "execution_count": null,
      "outputs": [
        {
          "output_type": "execute_result",
          "data": {
            "text/plain": [
              "<matplotlib.axes._subplots.AxesSubplot at 0x7f40a12bc810>"
            ]
          },
          "metadata": {},
          "execution_count": 373
        },
        {
          "output_type": "display_data",
          "data": {
            "text/plain": [
              "<Figure size 1080x504 with 1 Axes>"
            ],
            "image/png": "[encoded data removed]"
          },
          "metadata": {
            "needs_background": "light"
          }
        }
      ]
    },
    {
      "cell_type": "markdown",
      "source": [
        "On looking at the line plot for the above data, we can see that the data is non-stationary, with a trend in the dataset, but no observable Seasonality."
      ],
      "metadata": {
        "id": "EVsIuB9PzKTb"
      }
    },
    {
      "cell_type": "markdown",
      "source": [
        "Also, we'll choose additive instead of multiplicative method of decomposition since there is no exponential increase in the amplitudes over time.\n"
      ],
      "metadata": {
        "id": "ZGGPLt1ozgA3"
      }
    },
    {
      "cell_type": "code",
      "source": [
        "# Decomposing the dataset to see all kind of components of our time series.\n",
        "decomp = seasonal_decompose(data['rate'],  model='additive')"
      ],
      "metadata": {
        "id": "dPPIGqktLebD"
      },
      "execution_count": null,
      "outputs": []
    },
    {
      "cell_type": "code",
      "source": [
        "decomp.plot();"
      ],
      "metadata": {
        "colab": {
          "base_uri": "https://localhost:8080/",
          "height": 297
        },
        "id": "zWUk3EEmMX2p",
        "outputId": "af483ee2-19d2-43a5-f32a-4584a2826674"
      },
      "execution_count": null,
      "outputs": [
        {
          "output_type": "display_data",
          "data": {
            "text/plain": [
              "<Figure size 432x288 with 4 Axes>"
            ],
            "image/png": "[encoded data removed]"
          },
          "metadata": {
            "needs_background": "light"
          }
        }
      ]
    },
    {
      "cell_type": "markdown",
      "source": [
        "??"
      ],
      "metadata": {
        "id": "bA0rQzxDOe5f"
      }
    },
    {
      "cell_type": "code",
      "source": [
        "lag_plot(series = data.rate)\n",
        "plt.title('Example of lag scatter plot of daily price of UK Pound Against Dollar', weight='bold', family='Arial', fontsize=20)\n",
        "plt.show()"
      ],
      "metadata": {
        "colab": {
          "base_uri": "https://localhost:8080/",
          "height": 300
        },
        "id": "iC8HmJVAtrWS",
        "outputId": "269ec5e4-a233-4111-9c01-cc1a89fff877"
      },
      "execution_count": null,
      "outputs": [
        {
          "output_type": "display_data",
          "data": {
            "text/plain": [
              "<Figure size 432x288 with 1 Axes>"
            ],
            "image/png": "[encoded data removed]"
          },
          "metadata": {
            "needs_background": "light"
          }
        }
      ]
    },
    {
      "cell_type": "markdown",
      "source": [
        "Notes:\n",
        "*   From the above lag plot, we can see that the values of exchange rates at time period T and T-1 are highly positively correlated which is evident from the coalesced datapoints moving from left to right upwards. This means that the values are highly dependent on the previous values."
      ],
      "metadata": {
        "id": "5Yp0VAru0VBl"
      }
    },
    {
      "cell_type": "code",
      "source": [
        "values = pd.DataFrame(data.rate.values)\n",
        "lags = 7\n",
        "columns = [values]"
      ],
      "metadata": {
        "id": "QEZYjLqPtrZr"
      },
      "execution_count": null,
      "outputs": []
    },
    {
      "cell_type": "code",
      "source": [
        "for i in range(1,(lags + 1)):\n",
        "  columns.append(values.shift(i))\n",
        "dataframe = pd.concat(columns, axis=1)\n",
        "\n",
        "columns = ['t']\n",
        "\n",
        "for i in range(1,(lags + 1)):\n",
        "  columns.append('t-' + str(i))\n",
        "\n",
        "dataframe.columns = columns\n",
        "\n",
        "plt.figure(1, figsize=(5,4))\n",
        "\n",
        "for i in range(1, (lags+1)):\n",
        "  ax = plt.subplot(240 + i)\n",
        "  plt.subplots_adjust(left = 0.1, bottom=0.1, right=1.9, top =2, wspace = -0.6, hspace = 0.01)\n",
        "  ax.set_title('t vs t-' + str(i), family = 'Arial', fontsize = 24)\n",
        "  plt.scatter(x = dataframe['t'].values, y = dataframe['t-'+str(i)].values)\n",
        "  plt.show()"
      ],
      "metadata": {
        "colab": {
          "base_uri": "https://localhost:8080/",
          "height": 1000
        },
        "id": "x9IcAUhR0fR1",
        "outputId": "d14bc8e1-d175-41d7-83b6-1dd074a4327b"
      },
      "execution_count": null,
      "outputs": [
        {
          "output_type": "display_data",
          "data": {
            "text/plain": [
              "<Figure size 360x288 with 1 Axes>"
            ],
            "image/png": "[encoded data removed]"
          },
          "metadata": {
            "needs_background": "light"
          }
        },
        {
          "output_type": "display_data",
          "data": {
            "text/plain": [
              "<Figure size 432x288 with 1 Axes>"
            ],
            "image/png": "[encoded data removed]"
          },
          "metadata": {
            "needs_background": "light"
          }
        },
        {
          "output_type": "display_data",
          "data": {
            "text/plain": [
              "<Figure size 432x288 with 1 Axes>"
            ],
            "image/png": "[encoded data removed]"
          },
          "metadata": {
            "needs_background": "light"
          }
        },
        {
          "output_type": "display_data",
          "data": {
            "text/plain": [
              "<Figure size 432x288 with 1 Axes>"
            ],
            "image/png": "[encoded data removed]"
          },
          "metadata": {
            "needs_background": "light"
          }
        },
        {
          "output_type": "display_data",
          "data": {
            "text/plain": [
              "<Figure size 432x288 with 1 Axes>"
            ],
            "image/png": "[encoded data removed]"
          },
          "metadata": {
            "needs_background": "light"
          }
        },
        {
          "output_type": "display_data",
          "data": {
            "text/plain": [
              "<Figure size 432x288 with 1 Axes>"
            ],
            "image/png": "[encoded data removed]"
          },
          "metadata": {
            "needs_background": "light"
          }
        },
        {
          "output_type": "display_data",
          "data": {
            "text/plain": [
              "<Figure size 432x288 with 1 Axes>"
            ],
            "image/png": "[encoded data removed]"
          },
          "metadata": {
            "needs_background": "light"
          }
        }
      ]
    },
    {
      "cell_type": "markdown",
      "source": [
        "As seen above, to identify how strong the correlation is between the series at time t and its lags (t-1,t-2, etc.), we used the lag_plot() method to plot the values. The values were plotted for a total of 7 lags, and we can see that there is strong correlation between the values at time t with each lag period."
      ],
      "metadata": {
        "id": "R_gnjWoz0lrQ"
      }
    },
    {
      "cell_type": "markdown",
      "source": [
        "As we can also see from above lag plots, for 7 different lag values, there is high positive correlation among each one of them with values at time t."
      ],
      "metadata": {
        "id": "d-h-mz4G040e"
      }
    },
    {
      "cell_type": "markdown",
      "source": [
        "Let's perform ADF Test to confirm stationarity/non-stationarity of our dataset.\n"
      ],
      "metadata": {
        "id": "NaLVk3ttPty2"
      }
    },
    {
      "cell_type": "code",
      "source": [
        "result = adfuller(data['rate'].tolist())\n",
        "print('ADF Statistic: %f' % result[0])\n",
        "print('p-value %f' % result[1])\n",
        "print('Critical Values:')\n",
        "\n",
        "for key, value in result[4].items():\n",
        "  print('\\t%s: %.3f' % (key, value))"
      ],
      "metadata": {
        "colab": {
          "base_uri": "https://localhost:8080/"
        },
        "id": "9o0WhLMBPT-e",
        "outputId": "f904afc4-8646-4a1e-d98e-fdd011ae46e5"
      },
      "execution_count": null,
      "outputs": [
        {
          "output_type": "stream",
          "name": "stdout",
          "text": [
            "ADF Statistic: -1.310049\n",
            "p-value 0.624563\n",
            "Critical Values:\n",
            "\t1%: -3.437\n",
            "\t5%: -2.864\n",
            "\t10%: -2.568\n"
          ]
        }
      ]
    },
    {
      "cell_type": "code",
      "source": [
        "plt.figure(figsize=(12,6))\n",
        "from statsmodels.tsa.stattools import acf, pacf\n",
        "lag_acf = acf(data.rate, nlags = 20)\n",
        "lag_pacf = pacf(data.rate, nlags = 20, method = 'ols')\n",
        "\n",
        "plt.figure(figsize=(15,5))\n",
        "plt.subplot(121)\n",
        "plt.stem(lag_acf)\n",
        "plt.axhline(y=0,linestyle='--',color='black')\n",
        "plt.axhline(y=-1.96/np.sqrt(len(data)),linestyle='--',color='gray')\n",
        "plt.axhline(y=1.96/np.sqrt(len(data)),linestyle='--',color='gray')\n",
        "plt.xticks(range(0,22,1))\n",
        "plt.xlabel('Lag')\n",
        "plt.ylabel('ACF')\n",
        "plt.title('Autocorrelation Function')\n",
        "\n",
        "plt.subplot(122)\n",
        "plt.stem(lag_pacf)\n",
        "plt.axhline(y = 0, linestyle = '--', color='black')\n",
        "plt.axhline(y = -1.96/np.sqrt(len(data)), linestyle = '--', color='gray')\n",
        "plt.axhline(y = 1.96/np.sqrt(len(data)), linestyle = '--', color='gray')\n",
        "plt.xlabel('Lag')\n",
        "plt.xticks(range(0,22,1))\n",
        "plt.ylabel('PACF')\n",
        "plt.title('Partial Autocorrelation Function')\n",
        "plt.tight_layout()\n",
        "plt.show()"
      ],
      "metadata": {
        "colab": {
          "base_uri": "https://localhost:8080/",
          "height": 386
        },
        "id": "ey2lX0mgPdyo",
        "outputId": "903ae322-9de9-49cc-c15e-798ed845bf65"
      },
      "execution_count": null,
      "outputs": [
        {
          "output_type": "display_data",
          "data": {
            "text/plain": [
              "<Figure size 864x432 with 0 Axes>"
            ]
          },
          "metadata": {}
        },
        {
          "output_type": "display_data",
          "data": {
            "text/plain": [
              "<Figure size 1080x360 with 2 Axes>"
            ],
            "image/png": "[encoded data removed]"
          },
          "metadata": {
            "needs_background": "light"
          }
        }
      ]
    },
    {
      "cell_type": "markdown",
      "source": [
        "*   Since our Test Statistic value is greater than our critical value at 5%, we can say that our time series is non-stationarity.\n",
        "\n",
        "*   We can also see from our ACF plot that there is high correlation between time series at time t and various other lag values. There is also no sign of any kind of seasonality.\n",
        "\n",
        "Thus, we will difference our series once (as there is only trend) to see if this removes stationarity."
      ],
      "metadata": {
        "id": "fBwmKR8pPoqc"
      }
    },
    {
      "cell_type": "code",
      "source": [
        "diff = list()\n",
        "for i in range(1, len(data)):\n",
        "  value = data['rate'].tolist()[i] - data['rate'].tolist()[i-1]\n",
        "  diff.append(value)\n",
        "\n",
        "# line plot\n",
        "\n",
        "plt.plot(diff)\n",
        "plt.show()\n",
        "\n",
        "# Auto-correlation plot\n",
        "\n",
        "pd.plotting.autocorrelation_plot(diff)\n",
        "plt.show()"
      ],
      "metadata": {
        "colab": {
          "base_uri": "https://localhost:8080/",
          "height": 531
        },
        "id": "OcwzIsxOPd1E",
        "outputId": "ec6921df-1ae9-41b1-fa72-6d0e353f6d40"
      },
      "execution_count": null,
      "outputs": [
        {
          "output_type": "display_data",
          "data": {
            "text/plain": [
              "<Figure size 432x288 with 1 Axes>"
            ],
            "image/png": "[encoded data removed]"
          },
          "metadata": {
            "needs_background": "light"
          }
        },
        {
          "output_type": "display_data",
          "data": {
            "text/plain": [
              "<Figure size 432x288 with 1 Axes>"
            ],
            "image/png": "[encoded data removed]"
          },
          "metadata": {
            "needs_background": "light"
          }
        }
      ]
    },
    {
      "cell_type": "markdown",
      "source": [
        "Notes:\n",
        "*  From the first line plot, we can see that the differenced time series has a mean close to 0 and a very small variance.\n",
        "\n",
        "*  This shows us that the data has become stationary now. Also, from the autocorrelation plot, we can see that the AC values at different lags are now close to zero. This is also a sign of stationarity. But we'll again run the ADF test to check for stationarity."
      ],
      "metadata": {
        "id": "a3NrtolhRoIY"
      }
    },
    {
      "cell_type": "code",
      "source": [
        "result = adfuller(diff)\n",
        "\n",
        "print('ADF Statistic: %f' % result[0])\n",
        "print('p-value %f' % result[1])\n",
        "print('Critical Values:')\n",
        "\n",
        "for key, value in result[4].items():\n",
        "  print('\\t%s: %.3f' % (key, value))"
      ],
      "metadata": {
        "colab": {
          "base_uri": "https://localhost:8080/"
        },
        "id": "ARocR_mPQ-G-",
        "outputId": "4ec2d055-16f0-40af-8afb-ca189ed710de"
      },
      "execution_count": null,
      "outputs": [
        {
          "output_type": "stream",
          "name": "stdout",
          "text": [
            "ADF Statistic: -12.571511\n",
            "p-value 0.000000\n",
            "Critical Values:\n",
            "\t1%: -3.437\n",
            "\t5%: -2.864\n",
            "\t10%: -2.568\n"
          ]
        }
      ]
    },
    {
      "cell_type": "markdown",
      "source": [
        "We can see that our p-value is now approximately close to 0, so we can say that our time-series is now stationary."
      ],
      "metadata": {
        "id": "R5qNczdaRAY4"
      }
    },
    {
      "cell_type": "code",
      "source": [
        "plt.figure(figsize=(12,6))\n",
        "\n",
        "lag_acf = acf(diff, nlags = 20)\n",
        "lag_pacf = pacf(diff, nlags = 20, method = 'ols')\n",
        "\n",
        "plt.figure(figsize=(15,5))\n",
        "plt.subplot(121)\n",
        "plt.stem(lag_acf)\n",
        "plt.axhline(y=0,linestyle='--',color='black')\n",
        "plt.axhline(y=-1.96/np.sqrt(len(diff)),linestyle='--',color='gray')\n",
        "plt.axhline(y=1.96/np.sqrt(len(diff)),linestyle='--',color='gray')\n",
        "plt.xticks(range(0,22,1))\n",
        "plt.xlabel('Lag')\n",
        "plt.ylabel('ACF')\n",
        "plt.title('Autocorrelation Function')\n",
        "\n",
        "plt.subplot(122)\n",
        "plt.stem(lag_pacf)\n",
        "plt.axhline(y = 0, linestyle = '--', color='black')\n",
        "plt.axhline(y = -1.96/np.sqrt(len(diff)), linestyle = '--', color='gray')\n",
        "plt.axhline(y = 1.96/np.sqrt(len(diff)), linestyle = '--', color='gray')\n",
        "plt.xlabel('Lag')\n",
        "plt.xticks(range(0,22,1))\n",
        "plt.ylabel('PACF')\n",
        "plt.title('Partial Autocorrelation Function')\n",
        "plt.tight_layout()\n",
        "plt.show()"
      ],
      "metadata": {
        "colab": {
          "base_uri": "https://localhost:8080/",
          "height": 386
        },
        "id": "1Wez7ZM2PUBR",
        "outputId": "a6ce377b-fca3-4130-87ed-1ff04b3daf53"
      },
      "execution_count": null,
      "outputs": [
        {
          "output_type": "display_data",
          "data": {
            "text/plain": [
              "<Figure size 864x432 with 0 Axes>"
            ]
          },
          "metadata": {}
        },
        {
          "output_type": "display_data",
          "data": {
            "text/plain": [
              "<Figure size 1080x360 with 2 Axes>"
            ],
            "image/png": "[encoded data removed]"
          },
          "metadata": {
            "needs_background": "light"
          }
        }
      ]
    },
    {
      "cell_type": "markdown",
      "source": [
        "From the above AC and PACF plots (Lollipop charts), we can see that the initial lag values show a correlation with previous values. We'll have to select the appropriate values of p and q for building our ARIMA model, and this will be done using the Lollipops chart above. The p and q values are 3,2 respectively, as after these, the lollipops in our charts go below the band of error and are no more significant."
      ],
      "metadata": {
        "id": "ZiY8tkUG1Heu"
      }
    },
    {
      "cell_type": "code",
      "source": [
        "def mean_absolute_percentage_error(y_true, y_pred): \n",
        "    y_true, y_pred = np.array(y_true), np.array(y_pred)\n",
        "    return np.mean(np.abs((y_true - y_pred) / y_true)) * 100"
      ],
      "metadata": {
        "id": "iP1EdFasANt_"
      },
      "execution_count": null,
      "outputs": []
    },
    {
      "cell_type": "markdown",
      "source": [
        "# **4. Model Training**"
      ],
      "metadata": {
        "id": "USUrIOZ52hQR"
      }
    },
    {
      "cell_type": "markdown",
      "source": [
        "We will now be looking to build 3 models, namely Regression, ARIMA, FBProphet, and LSTM.\n",
        "\n",
        "But before we start building our model, we will need the appropriate values of p,d,q for ARIMA.\n",
        "\n",
        "1. We know, the value of p is obtained from the PACF plot, d is the number of times we have differenced our time-series (which is 1 in this case), and q is obtained from the ACF plot.\n",
        "\n",
        "2. On plotting our ACF and PACF plots with the differenced data (also called as lollipop charts), we can see that the p and q values turn out to be 3 and 2 respectively. We identify the p and q values by identifying where the lollipops are out of the band of error and the moment they start going inside the band of error, we stop and take that value as our p and q value."
      ],
      "metadata": {
        "id": "ZiOwM40V3Lu2"
      }
    },
    {
      "cell_type": "code",
      "source": [
        "time = [i+1 for i in range(len(data))]\n",
        "data['time'] = time"
      ],
      "metadata": {
        "id": "IfSGSdlGV6t8"
      },
      "execution_count": null,
      "outputs": []
    },
    {
      "cell_type": "code",
      "source": [
        "data.head()"
      ],
      "metadata": {
        "colab": {
          "base_uri": "https://localhost:8080/",
          "height": 237
        },
        "id": "9gYceLC1V6xG",
        "outputId": "08e82b26-94be-4dad-a3ed-fce8ba5b146c"
      },
      "execution_count": null,
      "outputs": [
        {
          "output_type": "execute_result",
          "data": {
            "text/plain": [
              "               rate  time\n",
              "date                     \n",
              "2000-01-03  0.61042     1\n",
              "2000-01-10  0.60860     2\n",
              "2000-01-17  0.60808     3\n",
              "2000-01-24  0.60998     4\n",
              "2000-01-31  0.62244     5"
            ],
            "text/html": [
              "\n",
              "  <div id=\"df-0d2ddcf0-31ae-4b7d-a1c4-272c3ee1efa2\">\n",
              "    <div class=\"colab-df-container\">\n",
              "      <div>\n",
              "<style scoped>\n",
              "    .dataframe tbody tr th:only-of-type {\n",
              "        vertical-align: middle;\n",
              "    }\n",
              "\n",
              "    .dataframe tbody tr th {\n",
              "        vertical-align: top;\n",
              "    }\n",
              "\n",
              "    .dataframe thead th {\n",
              "        text-align: right;\n",
              "    }\n",
              "</style>\n",
              "<table border=\"1\" class=\"dataframe\">\n",
              "  <thead>\n",
              "    <tr style=\"text-align: right;\">\n",
              "      <th></th>\n",
              "      <th>rate</th>\n",
              "      <th>time</th>\n",
              "    </tr>\n",
              "    <tr>\n",
              "      <th>date</th>\n",
              "      <th></th>\n",
              "      <th></th>\n",
              "    </tr>\n",
              "  </thead>\n",
              "  <tbody>\n",
              "    <tr>\n",
              "      <th>2000-01-03</th>\n",
              "      <td>0.61042</td>\n",
              "      <td>1</td>\n",
              "    </tr>\n",
              "    <tr>\n",
              "      <th>2000-01-10</th>\n",
              "      <td>0.60860</td>\n",
              "      <td>2</td>\n",
              "    </tr>\n",
              "    <tr>\n",
              "      <th>2000-01-17</th>\n",
              "      <td>0.60808</td>\n",
              "      <td>3</td>\n",
              "    </tr>\n",
              "    <tr>\n",
              "      <th>2000-01-24</th>\n",
              "      <td>0.60998</td>\n",
              "      <td>4</td>\n",
              "    </tr>\n",
              "    <tr>\n",
              "      <th>2000-01-31</th>\n",
              "      <td>0.62244</td>\n",
              "      <td>5</td>\n",
              "    </tr>\n",
              "  </tbody>\n",
              "</table>\n",
              "</div>\n",
              "      <button class=\"colab-df-convert\" onclick=\"convertToInteractive('df-0d2ddcf0-31ae-4b7d-a1c4-272c3ee1efa2')\"\n",
              "              title=\"Convert this dataframe to an interactive table.\"\n",
              "              style=\"display:none;\">\n",
              "        \n",
              "  <svg xmlns=\"http://www.w3.org/2000/svg\" height=\"24px\"viewBox=\"0 0 24 24\"\n",
              "       width=\"24px\">\n",
              "    <path d=\"M0 0h24v24H0V0z\" fill=\"none\"/>\n",
              "    <path d=\"M18.56 5.44l.94 2.06.94-2.06 2.06-.94-2.06-.94-.94-2.06-.94 2.06-2.06.94zm-11 1L8.5 8.5l.94-2.06 2.06-.94-2.06-.94L8.5 2.5l-.94 2.06-2.06.94zm10 10l.94 2.06.94-2.06 2.06-.94-2.06-.94-.94-2.06-.94 2.06-2.06.94z\"/><path d=\"M17.41 7.96l-1.37-1.37c-.4-.4-.92-.59-1.43-.59-.52 0-1.04.2-1.43.59L10.3 9.45l-7.72 7.72c-.78.78-.78 2.05 0 2.83L4 21.41c.39.39.9.59 1.41.59.51 0 1.02-.2 1.41-.59l7.78-7.78 2.81-2.81c.8-.78.8-2.07 0-2.86zM5.41 20L4 18.59l7.72-7.72 1.47 1.35L5.41 20z\"/>\n",
              "  </svg>\n",
              "      </button>\n",
              "      \n",
              "  <style>\n",
              "    .colab-df-container {\n",
              "      display:flex;\n",
              "      flex-wrap:wrap;\n",
              "      gap: 12px;\n",
              "    }\n",
              "\n",
              "    .colab-df-convert {\n",
              "      background-color: #E8F0FE;\n",
              "      border: none;\n",
              "      border-radius: 50%;\n",
              "      cursor: pointer;\n",
              "      display: none;\n",
              "      fill: #1967D2;\n",
              "      height: 32px;\n",
              "      padding: 0 0 0 0;\n",
              "      width: 32px;\n",
              "    }\n",
              "\n",
              "    .colab-df-convert:hover {\n",
              "      background-color: #E2EBFA;\n",
              "      box-shadow: 0px 1px 2px rgba(60, 64, 67, 0.3), 0px 1px 3px 1px rgba(60, 64, 67, 0.15);\n",
              "      fill: #174EA6;\n",
              "    }\n",
              "\n",
              "    [theme=dark] .colab-df-convert {\n",
              "      background-color: #3B4455;\n",
              "      fill: #D2E3FC;\n",
              "    }\n",
              "\n",
              "    [theme=dark] .colab-df-convert:hover {\n",
              "      background-color: #434B5C;\n",
              "      box-shadow: 0px 1px 3px 1px rgba(0, 0, 0, 0.15);\n",
              "      filter: drop-shadow(0px 1px 2px rgba(0, 0, 0, 0.3));\n",
              "      fill: #FFFFFF;\n",
              "    }\n",
              "  </style>\n",
              "\n",
              "      <script>\n",
              "        const buttonEl =\n",
              "          document.querySelector('#df-0d2ddcf0-31ae-4b7d-a1c4-272c3ee1efa2 button.colab-df-convert');\n",
              "        buttonEl.style.display =\n",
              "          google.colab.kernel.accessAllowed ? 'block' : 'none';\n",
              "\n",
              "        async function convertToInteractive(key) {\n",
              "          const element = document.querySelector('#df-0d2ddcf0-31ae-4b7d-a1c4-272c3ee1efa2');\n",
              "          const dataTable =\n",
              "            await google.colab.kernel.invokeFunction('convertToInteractive',\n",
              "                                                     [key], {});\n",
              "          if (!dataTable) return;\n",
              "\n",
              "          const docLinkHtml = 'Like what you see? Visit the ' +\n",
              "            '<a target=\"_blank\" href=https://colab.research.google.com/notebooks/data_table.ipynb>data table notebook</a>'\n",
              "            + ' to learn more about interactive tables.';\n",
              "          element.innerHTML = '';\n",
              "          dataTable['output_type'] = 'display_data';\n",
              "          await google.colab.output.renderOutput(dataTable, element);\n",
              "          const docLink = document.createElement('div');\n",
              "          docLink.innerHTML = docLinkHtml;\n",
              "          element.appendChild(docLink);\n",
              "        }\n",
              "      </script>\n",
              "    </div>\n",
              "  </div>\n",
              "  "
            ]
          },
          "metadata": {},
          "execution_count": 354
        }
      ]
    },
    {
      "cell_type": "markdown",
      "source": [
        "# REGRESSION ON TIME"
      ],
      "metadata": {
        "id": "rZGMeR1cCp_K"
      }
    },
    {
      "cell_type": "code",
      "source": [
        "# Splitting the dataset into train as first 900 weeks data, and test as last 144 weeks data.\n",
        "train = data[:900]\n",
        "test = data[900:]"
      ],
      "metadata": {
        "id": "zrfLmPw1V60K"
      },
      "execution_count": null,
      "outputs": []
    },
    {
      "cell_type": "code",
      "source": [
        "X_train = train.drop('rate',axis=1)\n",
        "X_test = test.drop('rate',axis=1)\n",
        "y_train = train[['rate']]\n",
        "y_test = test[['rate']]"
      ],
      "metadata": {
        "id": "eemHtvr0WAnE"
      },
      "execution_count": null,
      "outputs": []
    },
    {
      "cell_type": "code",
      "source": [
        "from sklearn.linear_model import LinearRegression\n",
        "#Define model\n",
        "model = LinearRegression()\n",
        "\n",
        "#fit model\n",
        "model.fit(X = X_train, y = y_train)\n",
        "\n",
        "#predict model\n",
        "predictions = model.predict(X_test)"
      ],
      "metadata": {
        "id": "RUJJcJ-BWAp2"
      },
      "execution_count": null,
      "outputs": []
    },
    {
      "cell_type": "code",
      "source": [
        "y_test['RegOnTime'] = predictions"
      ],
      "metadata": {
        "id": "RE9HjWbNV64a"
      },
      "execution_count": null,
      "outputs": []
    },
    {
      "cell_type": "code",
      "source": [
        "plt.figure(figsize=(14,5))\n",
        "plt.plot(y_train['rate'].values, label = 'Train')   \n",
        "plt.plot([None for i in y_train.values] + [x for x in y_test['rate'].values], label = 'Test')\n",
        "plt.plot([None for i in y_train.values] + [x for x in y_test['RegOnTime'].values], label = 'Regression On Time')\n",
        "plt.title('Exchange rate of UK Pound against US $ Linear Regression Plot', family='Arial', fontsize=20)\n",
        "plt.xlabel('Time', fontsize=18)\n",
        "plt.ylabel('Rate', fontsize=18)\n",
        "plt.legend(loc = 'best')"
      ],
      "metadata": {
        "colab": {
          "base_uri": "https://localhost:8080/",
          "height": 380
        },
        "id": "J-Tx9Cl-WISL",
        "outputId": "0dbc8766-310f-4c91-8418-10e2d182f273"
      },
      "execution_count": null,
      "outputs": [
        {
          "output_type": "execute_result",
          "data": {
            "text/plain": [
              "<matplotlib.legend.Legend at 0x7f40a16a9c50>"
            ]
          },
          "metadata": {},
          "execution_count": 359
        },
        {
          "output_type": "display_data",
          "data": {
            "text/plain": [
              "<Figure size 1008x360 with 1 Axes>"
            ],
            "image/png": "[encoded data removed]"
          },
          "metadata": {
            "needs_background": "light"
          }
        }
      ]
    },
    {
      "cell_type": "code",
      "source": [
        "mean_absolute_percentage_error(y_test,predictions)"
      ],
      "metadata": {
        "colab": {
          "base_uri": "https://localhost:8080/"
        },
        "id": "XqPowcSrV67B",
        "outputId": "a3a72d28-e458-4d02-fcd9-f444f7e078bf"
      },
      "execution_count": null,
      "outputs": [
        {
          "output_type": "execute_result",
          "data": {
            "text/plain": [
              "7.247130738773097"
            ]
          },
          "metadata": {},
          "execution_count": 360
        }
      ]
    },
    {
      "cell_type": "code",
      "source": [],
      "metadata": {
        "id": "seEaMXuMCoMT"
      },
      "execution_count": null,
      "outputs": []
    },
    {
      "cell_type": "markdown",
      "source": [
        "# ARIMA MODEL"
      ],
      "metadata": {
        "id": "iElWSDQ6CyZG"
      }
    },
    {
      "cell_type": "code",
      "source": [
        "train = data[:900]\n",
        "test = data[900:]"
      ],
      "metadata": {
        "id": "bO7VoEhDR75P"
      },
      "execution_count": null,
      "outputs": []
    },
    {
      "cell_type": "code",
      "source": [
        "from statsmodels.tsa.arima_model import ARIMA"
      ],
      "metadata": {
        "id": "l4TPslPBR8I4"
      },
      "execution_count": null,
      "outputs": []
    },
    {
      "cell_type": "code",
      "source": [
        "predictions = []\n",
        "\n",
        "arima = ARIMA(train.rate,order=(3,1,2)).fit()"
      ],
      "metadata": {
        "id": "0rnjZgpzR8MA"
      },
      "execution_count": null,
      "outputs": []
    },
    {
      "cell_type": "code",
      "source": [
        "predictions.append(arima.forecast(144))"
      ],
      "metadata": {
        "id": "DWuLeFM2R8PD"
      },
      "execution_count": null,
      "outputs": []
    },
    {
      "cell_type": "code",
      "source": [
        "predictions = np.array(predictions[0][0]).reshape((144,))"
      ],
      "metadata": {
        "id": "L_B_EbTwR8SM"
      },
      "execution_count": null,
      "outputs": []
    },
    {
      "cell_type": "code",
      "source": [
        "test['arima_pred'] = predictions"
      ],
      "metadata": {
        "id": "YQ19TEsbWrL4"
      },
      "execution_count": null,
      "outputs": []
    },
    {
      "cell_type": "code",
      "source": [
        "arima.summary()"
      ],
      "metadata": {
        "colab": {
          "base_uri": "https://localhost:8080/",
          "height": 485
        },
        "id": "0XDQw6Qy5lBF",
        "outputId": "6f8c0b09-4f95-4b51-ccde-c279ed185304"
      },
      "execution_count": null,
      "outputs": [
        {
          "output_type": "execute_result",
          "data": {
            "text/plain": [
              "<class 'statsmodels.iolib.summary.Summary'>\n",
              "\"\"\"\n",
              "                             ARIMA Model Results                              \n",
              "==============================================================================\n",
              "Dep. Variable:                 D.rate   No. Observations:                  899\n",
              "Model:                 ARIMA(3, 1, 2)   Log Likelihood                3216.430\n",
              "Method:                       css-mle   S.D. of innovations              0.007\n",
              "Date:                Thu, 22 Sep 2022   AIC                          -6418.861\n",
              "Time:                        07:02:53   BIC                          -6385.252\n",
              "Sample:                    01-10-2000   HQIC                         -6406.021\n",
              "                         - 03-27-2017                                         \n",
              "================================================================================\n",
              "                   coef    std err          z      P>|z|      [0.025      0.975]\n",
              "--------------------------------------------------------------------------------\n",
              "const            0.0002      0.000      0.737      0.461      -0.000       0.001\n",
              "ar.L1.D.rate    -0.4102      0.190     -2.162      0.031      -0.782      -0.038\n",
              "ar.L2.D.rate    -0.4680      0.146     -3.204      0.001      -0.754      -0.182\n",
              "ar.L3.D.rate     0.1729      0.066      2.637      0.008       0.044       0.301\n",
              "ma.L1.D.rate     0.6361      0.195      3.268      0.001       0.255       1.018\n",
              "ma.L2.D.rate     0.4960      0.153      3.246      0.001       0.197       0.795\n",
              "                                    Roots                                    \n",
              "=============================================================================\n",
              "                  Real          Imaginary           Modulus         Frequency\n",
              "-----------------------------------------------------------------------------\n",
              "AR.1           -0.5219           -1.1269j            1.2419           -0.3190\n",
              "AR.2           -0.5219           +1.1269j            1.2419            0.3190\n",
              "AR.3            3.7507           -0.0000j            3.7507           -0.0000\n",
              "MA.1           -0.6413           -1.2669j            1.4199           -0.3246\n",
              "MA.2           -0.6413           +1.2669j            1.4199            0.3246\n",
              "-----------------------------------------------------------------------------\n",
              "\"\"\""
            ],
            "text/html": [
              "<table class=\"simpletable\">\n",
              "<caption>ARIMA Model Results</caption>\n",
              "<tr>\n",
              "  <th>Dep. Variable:</th>      <td>D.rate</td>      <th>  No. Observations:  </th>    <td>899</td>   \n",
              "</tr>\n",
              "<tr>\n",
              "  <th>Model:</th>          <td>ARIMA(3, 1, 2)</td>  <th>  Log Likelihood     </th> <td>3216.430</td> \n",
              "</tr>\n",
              "<tr>\n",
              "  <th>Method:</th>             <td>css-mle</td>     <th>  S.D. of innovations</th>   <td>0.007</td>  \n",
              "</tr>\n",
              "<tr>\n",
              "  <th>Date:</th>          <td>Thu, 22 Sep 2022</td> <th>  AIC                </th> <td>-6418.861</td>\n",
              "</tr>\n",
              "<tr>\n",
              "  <th>Time:</th>              <td>07:02:53</td>     <th>  BIC                </th> <td>-6385.252</td>\n",
              "</tr>\n",
              "<tr>\n",
              "  <th>Sample:</th>           <td>01-10-2000</td>    <th>  HQIC               </th> <td>-6406.021</td>\n",
              "</tr>\n",
              "<tr>\n",
              "  <th></th>                 <td>- 03-27-2017</td>   <th>                     </th>     <td> </td>    \n",
              "</tr>\n",
              "</table>\n",
              "<table class=\"simpletable\">\n",
              "<tr>\n",
              "        <td></td>          <th>coef</th>     <th>std err</th>      <th>z</th>      <th>P>|z|</th>  <th>[0.025</th>    <th>0.975]</th>  \n",
              "</tr>\n",
              "<tr>\n",
              "  <th>const</th>        <td>    0.0002</td> <td>    0.000</td> <td>    0.737</td> <td> 0.461</td> <td>   -0.000</td> <td>    0.001</td>\n",
              "</tr>\n",
              "<tr>\n",
              "  <th>ar.L1.D.rate</th> <td>   -0.4102</td> <td>    0.190</td> <td>   -2.162</td> <td> 0.031</td> <td>   -0.782</td> <td>   -0.038</td>\n",
              "</tr>\n",
              "<tr>\n",
              "  <th>ar.L2.D.rate</th> <td>   -0.4680</td> <td>    0.146</td> <td>   -3.204</td> <td> 0.001</td> <td>   -0.754</td> <td>   -0.182</td>\n",
              "</tr>\n",
              "<tr>\n",
              "  <th>ar.L3.D.rate</th> <td>    0.1729</td> <td>    0.066</td> <td>    2.637</td> <td> 0.008</td> <td>    0.044</td> <td>    0.301</td>\n",
              "</tr>\n",
              "<tr>\n",
              "  <th>ma.L1.D.rate</th> <td>    0.6361</td> <td>    0.195</td> <td>    3.268</td> <td> 0.001</td> <td>    0.255</td> <td>    1.018</td>\n",
              "</tr>\n",
              "<tr>\n",
              "  <th>ma.L2.D.rate</th> <td>    0.4960</td> <td>    0.153</td> <td>    3.246</td> <td> 0.001</td> <td>    0.197</td> <td>    0.795</td>\n",
              "</tr>\n",
              "</table>\n",
              "<table class=\"simpletable\">\n",
              "<caption>Roots</caption>\n",
              "<tr>\n",
              "    <td></td>   <th>            Real</th>  <th>         Imaginary</th> <th>         Modulus</th>  <th>        Frequency</th>\n",
              "</tr>\n",
              "<tr>\n",
              "  <th>AR.1</th> <td>          -0.5219</td> <td>          -1.1269j</td> <td>           1.2419</td> <td>          -0.3190</td>\n",
              "</tr>\n",
              "<tr>\n",
              "  <th>AR.2</th> <td>          -0.5219</td> <td>          +1.1269j</td> <td>           1.2419</td> <td>           0.3190</td>\n",
              "</tr>\n",
              "<tr>\n",
              "  <th>AR.3</th> <td>           3.7507</td> <td>          -0.0000j</td> <td>           3.7507</td> <td>          -0.0000</td>\n",
              "</tr>\n",
              "<tr>\n",
              "  <th>MA.1</th> <td>          -0.6413</td> <td>          -1.2669j</td> <td>           1.4199</td> <td>          -0.3246</td>\n",
              "</tr>\n",
              "<tr>\n",
              "  <th>MA.2</th> <td>          -0.6413</td> <td>          +1.2669j</td> <td>           1.4199</td> <td>           0.3246</td>\n",
              "</tr>\n",
              "</table>"
            ]
          },
          "metadata": {},
          "execution_count": 367
        }
      ]
    },
    {
      "cell_type": "markdown",
      "source": [
        "PREDICTION VS OBSERVED GRAPH"
      ],
      "metadata": {
        "id": "CcYp7r5X5wH1"
      }
    },
    {
      "cell_type": "code",
      "source": [
        "plt.figure(figsize=(14,5))\n",
        "plt.plot(train['rate'].values, label = 'Train')   \n",
        "plt.plot([None for i in train.values] + [x for x in test['rate'].values], label = 'Test')\n",
        "plt.plot([None for i in train.values] + [x for x in test['arima_pred'].values], label = 'ARIMA Prediction')\n",
        "plt.title('Exchange rate of UK Pound against US $ ARIMA Prediction Plot', family='Arial', fontsize=20)\n",
        "plt.xlabel('Time', fontsize=18)\n",
        "plt.ylabel('Rate', fontsize=18)\n",
        "plt.legend(loc = 'best')"
      ],
      "metadata": {
        "colab": {
          "base_uri": "https://localhost:8080/",
          "height": 380
        },
        "id": "2HDXeoCHWzge",
        "outputId": "65ad4afe-6ccb-4f38-fc72-666f829f0919"
      },
      "execution_count": null,
      "outputs": [
        {
          "output_type": "execute_result",
          "data": {
            "text/plain": [
              "<matplotlib.legend.Legend at 0x7f40a165afd0>"
            ]
          },
          "metadata": {},
          "execution_count": 368
        },
        {
          "output_type": "display_data",
          "data": {
            "text/plain": [
              "<Figure size 1008x360 with 1 Axes>"
            ],
            "image/png": "[encoded data removed]"
          },
          "metadata": {
            "needs_background": "light"
          }
        }
      ]
    },
    {
      "cell_type": "code",
      "source": [
        "mean_absolute_percentage_error(test.rate, predictions)"
      ],
      "metadata": {
        "colab": {
          "base_uri": "https://localhost:8080/"
        },
        "id": "qq_fvd2C5jsr",
        "outputId": "8ae15d00-83fd-4fa1-dc46-aa4ccd4e684b"
      },
      "execution_count": null,
      "outputs": [
        {
          "output_type": "execute_result",
          "data": {
            "text/plain": [
              "6.183300385506722"
            ]
          },
          "metadata": {},
          "execution_count": 369
        }
      ]
    },
    {
      "cell_type": "code",
      "source": [],
      "metadata": {
        "id": "tjCkH_2HVDj8"
      },
      "execution_count": null,
      "outputs": []
    },
    {
      "cell_type": "markdown",
      "source": [
        "# FBPROPHET"
      ],
      "metadata": {
        "id": "paiKWDBuC4UJ"
      }
    },
    {
      "cell_type": "code",
      "source": [
        "data1.head()"
      ],
      "metadata": {
        "colab": {
          "base_uri": "https://localhost:8080/",
          "height": 237
        },
        "id": "lAKhkpHBX6dT",
        "outputId": "5c158e4f-2cdc-4eac-d7e2-32921a698bf7"
      },
      "execution_count": null,
      "outputs": [
        {
          "output_type": "execute_result",
          "data": {
            "text/plain": [
              "               rate\n",
              "date               \n",
              "2000-01-03  0.61042\n",
              "2000-01-10  0.60860\n",
              "2000-01-17  0.60808\n",
              "2000-01-24  0.60998\n",
              "2000-01-31  0.62244"
            ],
            "text/html": [
              "\n",
              "  <div id=\"df-6072f3df-6efd-42ae-b771-58c675388fc1\">\n",
              "    <div class=\"colab-df-container\">\n",
              "      <div>\n",
              "<style scoped>\n",
              "    .dataframe tbody tr th:only-of-type {\n",
              "        vertical-align: middle;\n",
              "    }\n",
              "\n",
              "    .dataframe tbody tr th {\n",
              "        vertical-align: top;\n",
              "    }\n",
              "\n",
              "    .dataframe thead th {\n",
              "        text-align: right;\n",
              "    }\n",
              "</style>\n",
              "<table border=\"1\" class=\"dataframe\">\n",
              "  <thead>\n",
              "    <tr style=\"text-align: right;\">\n",
              "      <th></th>\n",
              "      <th>rate</th>\n",
              "    </tr>\n",
              "    <tr>\n",
              "      <th>date</th>\n",
              "      <th></th>\n",
              "    </tr>\n",
              "  </thead>\n",
              "  <tbody>\n",
              "    <tr>\n",
              "      <th>2000-01-03</th>\n",
              "      <td>0.61042</td>\n",
              "    </tr>\n",
              "    <tr>\n",
              "      <th>2000-01-10</th>\n",
              "      <td>0.60860</td>\n",
              "    </tr>\n",
              "    <tr>\n",
              "      <th>2000-01-17</th>\n",
              "      <td>0.60808</td>\n",
              "    </tr>\n",
              "    <tr>\n",
              "      <th>2000-01-24</th>\n",
              "      <td>0.60998</td>\n",
              "    </tr>\n",
              "    <tr>\n",
              "      <th>2000-01-31</th>\n",
              "      <td>0.62244</td>\n",
              "    </tr>\n",
              "  </tbody>\n",
              "</table>\n",
              "</div>\n",
              "      <button class=\"colab-df-convert\" onclick=\"convertToInteractive('df-6072f3df-6efd-42ae-b771-58c675388fc1')\"\n",
              "              title=\"Convert this dataframe to an interactive table.\"\n",
              "              style=\"display:none;\">\n",
              "        \n",
              "  <svg xmlns=\"http://www.w3.org/2000/svg\" height=\"24px\"viewBox=\"0 0 24 24\"\n",
              "       width=\"24px\">\n",
              "    <path d=\"M0 0h24v24H0V0z\" fill=\"none\"/>\n",
              "    <path d=\"M18.56 5.44l.94 2.06.94-2.06 2.06-.94-2.06-.94-.94-2.06-.94 2.06-2.06.94zm-11 1L8.5 8.5l.94-2.06 2.06-.94-2.06-.94L8.5 2.5l-.94 2.06-2.06.94zm10 10l.94 2.06.94-2.06 2.06-.94-2.06-.94-.94-2.06-.94 2.06-2.06.94z\"/><path d=\"M17.41 7.96l-1.37-1.37c-.4-.4-.92-.59-1.43-.59-.52 0-1.04.2-1.43.59L10.3 9.45l-7.72 7.72c-.78.78-.78 2.05 0 2.83L4 21.41c.39.39.9.59 1.41.59.51 0 1.02-.2 1.41-.59l7.78-7.78 2.81-2.81c.8-.78.8-2.07 0-2.86zM5.41 20L4 18.59l7.72-7.72 1.47 1.35L5.41 20z\"/>\n",
              "  </svg>\n",
              "      </button>\n",
              "      \n",
              "  <style>\n",
              "    .colab-df-container {\n",
              "      display:flex;\n",
              "      flex-wrap:wrap;\n",
              "      gap: 12px;\n",
              "    }\n",
              "\n",
              "    .colab-df-convert {\n",
              "      background-color: #E8F0FE;\n",
              "      border: none;\n",
              "      border-radius: 50%;\n",
              "      cursor: pointer;\n",
              "      display: none;\n",
              "      fill: #1967D2;\n",
              "      height: 32px;\n",
              "      padding: 0 0 0 0;\n",
              "      width: 32px;\n",
              "    }\n",
              "\n",
              "    .colab-df-convert:hover {\n",
              "      background-color: #E2EBFA;\n",
              "      box-shadow: 0px 1px 2px rgba(60, 64, 67, 0.3), 0px 1px 3px 1px rgba(60, 64, 67, 0.15);\n",
              "      fill: #174EA6;\n",
              "    }\n",
              "\n",
              "    [theme=dark] .colab-df-convert {\n",
              "      background-color: #3B4455;\n",
              "      fill: #D2E3FC;\n",
              "    }\n",
              "\n",
              "    [theme=dark] .colab-df-convert:hover {\n",
              "      background-color: #434B5C;\n",
              "      box-shadow: 0px 1px 3px 1px rgba(0, 0, 0, 0.15);\n",
              "      filter: drop-shadow(0px 1px 2px rgba(0, 0, 0, 0.3));\n",
              "      fill: #FFFFFF;\n",
              "    }\n",
              "  </style>\n",
              "\n",
              "      <script>\n",
              "        const buttonEl =\n",
              "          document.querySelector('#df-6072f3df-6efd-42ae-b771-58c675388fc1 button.colab-df-convert');\n",
              "        buttonEl.style.display =\n",
              "          google.colab.kernel.accessAllowed ? 'block' : 'none';\n",
              "\n",
              "        async function convertToInteractive(key) {\n",
              "          const element = document.querySelector('#df-6072f3df-6efd-42ae-b771-58c675388fc1');\n",
              "          const dataTable =\n",
              "            await google.colab.kernel.invokeFunction('convertToInteractive',\n",
              "                                                     [key], {});\n",
              "          if (!dataTable) return;\n",
              "\n",
              "          const docLinkHtml = 'Like what you see? Visit the ' +\n",
              "            '<a target=\"_blank\" href=https://colab.research.google.com/notebooks/data_table.ipynb>data table notebook</a>'\n",
              "            + ' to learn more about interactive tables.';\n",
              "          element.innerHTML = '';\n",
              "          dataTable['output_type'] = 'display_data';\n",
              "          await google.colab.output.renderOutput(dataTable, element);\n",
              "          const docLink = document.createElement('div');\n",
              "          docLink.innerHTML = docLinkHtml;\n",
              "          element.appendChild(docLink);\n",
              "        }\n",
              "      </script>\n",
              "    </div>\n",
              "  </div>\n",
              "  "
            ]
          },
          "metadata": {},
          "execution_count": 244
        }
      ]
    },
    {
      "cell_type": "code",
      "source": [
        "data1.reset_index(inplace=True)"
      ],
      "metadata": {
        "id": "9T-QDxOPYcau"
      },
      "execution_count": null,
      "outputs": []
    },
    {
      "cell_type": "code",
      "source": [
        "data1 = data1.rename(columns={'date' : 'ds','rate' : 'y'})"
      ],
      "metadata": {
        "id": "OBsaa3aIXXLU"
      },
      "execution_count": null,
      "outputs": []
    },
    {
      "cell_type": "code",
      "source": [
        "data1.head()"
      ],
      "metadata": {
        "colab": {
          "base_uri": "https://localhost:8080/",
          "height": 206
        },
        "id": "HP_vSYt5XhPN",
        "outputId": "48c159d3-3d71-4767-c4fb-3550c13d7265"
      },
      "execution_count": null,
      "outputs": [
        {
          "output_type": "execute_result",
          "data": {
            "text/plain": [
              "          ds        y\n",
              "0 2000-01-03  0.61042\n",
              "1 2000-01-10  0.60860\n",
              "2 2000-01-17  0.60808\n",
              "3 2000-01-24  0.60998\n",
              "4 2000-01-31  0.62244"
            ],
            "text/html": [
              "\n",
              "  <div id=\"df-ed02efd9-5f82-4781-bf94-e2d7e55d9799\">\n",
              "    <div class=\"colab-df-container\">\n",
              "      <div>\n",
              "<style scoped>\n",
              "    .dataframe tbody tr th:only-of-type {\n",
              "        vertical-align: middle;\n",
              "    }\n",
              "\n",
              "    .dataframe tbody tr th {\n",
              "        vertical-align: top;\n",
              "    }\n",
              "\n",
              "    .dataframe thead th {\n",
              "        text-align: right;\n",
              "    }\n",
              "</style>\n",
              "<table border=\"1\" class=\"dataframe\">\n",
              "  <thead>\n",
              "    <tr style=\"text-align: right;\">\n",
              "      <th></th>\n",
              "      <th>ds</th>\n",
              "      <th>y</th>\n",
              "    </tr>\n",
              "  </thead>\n",
              "  <tbody>\n",
              "    <tr>\n",
              "      <th>0</th>\n",
              "      <td>2000-01-03</td>\n",
              "      <td>0.61042</td>\n",
              "    </tr>\n",
              "    <tr>\n",
              "      <th>1</th>\n",
              "      <td>2000-01-10</td>\n",
              "      <td>0.60860</td>\n",
              "    </tr>\n",
              "    <tr>\n",
              "      <th>2</th>\n",
              "      <td>2000-01-17</td>\n",
              "      <td>0.60808</td>\n",
              "    </tr>\n",
              "    <tr>\n",
              "      <th>3</th>\n",
              "      <td>2000-01-24</td>\n",
              "      <td>0.60998</td>\n",
              "    </tr>\n",
              "    <tr>\n",
              "      <th>4</th>\n",
              "      <td>2000-01-31</td>\n",
              "      <td>0.62244</td>\n",
              "    </tr>\n",
              "  </tbody>\n",
              "</table>\n",
              "</div>\n",
              "      <button class=\"colab-df-convert\" onclick=\"convertToInteractive('df-ed02efd9-5f82-4781-bf94-e2d7e55d9799')\"\n",
              "              title=\"Convert this dataframe to an interactive table.\"\n",
              "              style=\"display:none;\">\n",
              "        \n",
              "  <svg xmlns=\"http://www.w3.org/2000/svg\" height=\"24px\"viewBox=\"0 0 24 24\"\n",
              "       width=\"24px\">\n",
              "    <path d=\"M0 0h24v24H0V0z\" fill=\"none\"/>\n",
              "    <path d=\"M18.56 5.44l.94 2.06.94-2.06 2.06-.94-2.06-.94-.94-2.06-.94 2.06-2.06.94zm-11 1L8.5 8.5l.94-2.06 2.06-.94-2.06-.94L8.5 2.5l-.94 2.06-2.06.94zm10 10l.94 2.06.94-2.06 2.06-.94-2.06-.94-.94-2.06-.94 2.06-2.06.94z\"/><path d=\"M17.41 7.96l-1.37-1.37c-.4-.4-.92-.59-1.43-.59-.52 0-1.04.2-1.43.59L10.3 9.45l-7.72 7.72c-.78.78-.78 2.05 0 2.83L4 21.41c.39.39.9.59 1.41.59.51 0 1.02-.2 1.41-.59l7.78-7.78 2.81-2.81c.8-.78.8-2.07 0-2.86zM5.41 20L4 18.59l7.72-7.72 1.47 1.35L5.41 20z\"/>\n",
              "  </svg>\n",
              "      </button>\n",
              "      \n",
              "  <style>\n",
              "    .colab-df-container {\n",
              "      display:flex;\n",
              "      flex-wrap:wrap;\n",
              "      gap: 12px;\n",
              "    }\n",
              "\n",
              "    .colab-df-convert {\n",
              "      background-color: #E8F0FE;\n",
              "      border: none;\n",
              "      border-radius: 50%;\n",
              "      cursor: pointer;\n",
              "      display: none;\n",
              "      fill: #1967D2;\n",
              "      height: 32px;\n",
              "      padding: 0 0 0 0;\n",
              "      width: 32px;\n",
              "    }\n",
              "\n",
              "    .colab-df-convert:hover {\n",
              "      background-color: #E2EBFA;\n",
              "      box-shadow: 0px 1px 2px rgba(60, 64, 67, 0.3), 0px 1px 3px 1px rgba(60, 64, 67, 0.15);\n",
              "      fill: #174EA6;\n",
              "    }\n",
              "\n",
              "    [theme=dark] .colab-df-convert {\n",
              "      background-color: #3B4455;\n",
              "      fill: #D2E3FC;\n",
              "    }\n",
              "\n",
              "    [theme=dark] .colab-df-convert:hover {\n",
              "      background-color: #434B5C;\n",
              "      box-shadow: 0px 1px 3px 1px rgba(0, 0, 0, 0.15);\n",
              "      filter: drop-shadow(0px 1px 2px rgba(0, 0, 0, 0.3));\n",
              "      fill: #FFFFFF;\n",
              "    }\n",
              "  </style>\n",
              "\n",
              "      <script>\n",
              "        const buttonEl =\n",
              "          document.querySelector('#df-ed02efd9-5f82-4781-bf94-e2d7e55d9799 button.colab-df-convert');\n",
              "        buttonEl.style.display =\n",
              "          google.colab.kernel.accessAllowed ? 'block' : 'none';\n",
              "\n",
              "        async function convertToInteractive(key) {\n",
              "          const element = document.querySelector('#df-ed02efd9-5f82-4781-bf94-e2d7e55d9799');\n",
              "          const dataTable =\n",
              "            await google.colab.kernel.invokeFunction('convertToInteractive',\n",
              "                                                     [key], {});\n",
              "          if (!dataTable) return;\n",
              "\n",
              "          const docLinkHtml = 'Like what you see? Visit the ' +\n",
              "            '<a target=\"_blank\" href=https://colab.research.google.com/notebooks/data_table.ipynb>data table notebook</a>'\n",
              "            + ' to learn more about interactive tables.';\n",
              "          element.innerHTML = '';\n",
              "          dataTable['output_type'] = 'display_data';\n",
              "          await google.colab.output.renderOutput(dataTable, element);\n",
              "          const docLink = document.createElement('div');\n",
              "          docLink.innerHTML = docLinkHtml;\n",
              "          element.appendChild(docLink);\n",
              "        }\n",
              "      </script>\n",
              "    </div>\n",
              "  </div>\n",
              "  "
            ]
          },
          "metadata": {},
          "execution_count": 248
        }
      ]
    },
    {
      "cell_type": "code",
      "source": [
        "data.shape"
      ],
      "metadata": {
        "colab": {
          "base_uri": "https://localhost:8080/"
        },
        "id": "J4iI65hJXjW_",
        "outputId": "30bb7c56-abd4-4832-8340-4530c301f388"
      },
      "execution_count": null,
      "outputs": [
        {
          "output_type": "execute_result",
          "data": {
            "text/plain": [
              "(1044, 2)"
            ]
          },
          "metadata": {},
          "execution_count": 249
        }
      ]
    },
    {
      "cell_type": "code",
      "source": [
        "training_data = data1[:900]\n",
        "testing_data = data1[900:]"
      ],
      "metadata": {
        "id": "toaBgTVUXkRe"
      },
      "execution_count": null,
      "outputs": []
    },
    {
      "cell_type": "code",
      "source": [
        "my_model = Prophet(interval_width=0.95)"
      ],
      "metadata": {
        "id": "bbutcEq-Xrxe"
      },
      "execution_count": null,
      "outputs": []
    },
    {
      "cell_type": "code",
      "source": [
        "my_model.fit(training_data)"
      ],
      "metadata": {
        "colab": {
          "base_uri": "https://localhost:8080/"
        },
        "id": "h01lYWejae6Y",
        "outputId": "49f4b165-fd77-4710-c05a-924dad818dfa"
      },
      "execution_count": null,
      "outputs": [
        {
          "output_type": "stream",
          "name": "stderr",
          "text": [
            "INFO:fbprophet:Disabling weekly seasonality. Run prophet with weekly_seasonality=True to override this.\n",
            "INFO:fbprophet:Disabling daily seasonality. Run prophet with daily_seasonality=True to override this.\n"
          ]
        },
        {
          "output_type": "execute_result",
          "data": {
            "text/plain": [
              "<fbprophet.forecaster.Prophet at 0x7f410a10ec50>"
            ]
          },
          "metadata": {},
          "execution_count": 252
        }
      ]
    },
    {
      "cell_type": "code",
      "source": [
        "future_dates = my_model.make_future_dataframe(periods=144, freq='W')\n",
        "future_dates.head()"
      ],
      "metadata": {
        "colab": {
          "base_uri": "https://localhost:8080/",
          "height": 206
        },
        "id": "8W1lmkIGamTE",
        "outputId": "fafd37c5-d455-4f48-e6d1-c0f18c37c81f"
      },
      "execution_count": null,
      "outputs": [
        {
          "output_type": "execute_result",
          "data": {
            "text/plain": [
              "          ds\n",
              "0 2000-01-03\n",
              "1 2000-01-10\n",
              "2 2000-01-17\n",
              "3 2000-01-24\n",
              "4 2000-01-31"
            ],
            "text/html": [
              "\n",
              "  <div id=\"df-354cb4ee-50c5-4537-9a96-ea5dac19f3e2\">\n",
              "    <div class=\"colab-df-container\">\n",
              "      <div>\n",
              "<style scoped>\n",
              "    .dataframe tbody tr th:only-of-type {\n",
              "        vertical-align: middle;\n",
              "    }\n",
              "\n",
              "    .dataframe tbody tr th {\n",
              "        vertical-align: top;\n",
              "    }\n",
              "\n",
              "    .dataframe thead th {\n",
              "        text-align: right;\n",
              "    }\n",
              "</style>\n",
              "<table border=\"1\" class=\"dataframe\">\n",
              "  <thead>\n",
              "    <tr style=\"text-align: right;\">\n",
              "      <th></th>\n",
              "      <th>ds</th>\n",
              "    </tr>\n",
              "  </thead>\n",
              "  <tbody>\n",
              "    <tr>\n",
              "      <th>0</th>\n",
              "      <td>2000-01-03</td>\n",
              "    </tr>\n",
              "    <tr>\n",
              "      <th>1</th>\n",
              "      <td>2000-01-10</td>\n",
              "    </tr>\n",
              "    <tr>\n",
              "      <th>2</th>\n",
              "      <td>2000-01-17</td>\n",
              "    </tr>\n",
              "    <tr>\n",
              "      <th>3</th>\n",
              "      <td>2000-01-24</td>\n",
              "    </tr>\n",
              "    <tr>\n",
              "      <th>4</th>\n",
              "      <td>2000-01-31</td>\n",
              "    </tr>\n",
              "  </tbody>\n",
              "</table>\n",
              "</div>\n",
              "      <button class=\"colab-df-convert\" onclick=\"convertToInteractive('df-354cb4ee-50c5-4537-9a96-ea5dac19f3e2')\"\n",
              "              title=\"Convert this dataframe to an interactive table.\"\n",
              "              style=\"display:none;\">\n",
              "        \n",
              "  <svg xmlns=\"http://www.w3.org/2000/svg\" height=\"24px\"viewBox=\"0 0 24 24\"\n",
              "       width=\"24px\">\n",
              "    <path d=\"M0 0h24v24H0V0z\" fill=\"none\"/>\n",
              "    <path d=\"M18.56 5.44l.94 2.06.94-2.06 2.06-.94-2.06-.94-.94-2.06-.94 2.06-2.06.94zm-11 1L8.5 8.5l.94-2.06 2.06-.94-2.06-.94L8.5 2.5l-.94 2.06-2.06.94zm10 10l.94 2.06.94-2.06 2.06-.94-2.06-.94-.94-2.06-.94 2.06-2.06.94z\"/><path d=\"M17.41 7.96l-1.37-1.37c-.4-.4-.92-.59-1.43-.59-.52 0-1.04.2-1.43.59L10.3 9.45l-7.72 7.72c-.78.78-.78 2.05 0 2.83L4 21.41c.39.39.9.59 1.41.59.51 0 1.02-.2 1.41-.59l7.78-7.78 2.81-2.81c.8-.78.8-2.07 0-2.86zM5.41 20L4 18.59l7.72-7.72 1.47 1.35L5.41 20z\"/>\n",
              "  </svg>\n",
              "      </button>\n",
              "      \n",
              "  <style>\n",
              "    .colab-df-container {\n",
              "      display:flex;\n",
              "      flex-wrap:wrap;\n",
              "      gap: 12px;\n",
              "    }\n",
              "\n",
              "    .colab-df-convert {\n",
              "      background-color: #E8F0FE;\n",
              "      border: none;\n",
              "      border-radius: 50%;\n",
              "      cursor: pointer;\n",
              "      display: none;\n",
              "      fill: #1967D2;\n",
              "      height: 32px;\n",
              "      padding: 0 0 0 0;\n",
              "      width: 32px;\n",
              "    }\n",
              "\n",
              "    .colab-df-convert:hover {\n",
              "      background-color: #E2EBFA;\n",
              "      box-shadow: 0px 1px 2px rgba(60, 64, 67, 0.3), 0px 1px 3px 1px rgba(60, 64, 67, 0.15);\n",
              "      fill: #174EA6;\n",
              "    }\n",
              "\n",
              "    [theme=dark] .colab-df-convert {\n",
              "      background-color: #3B4455;\n",
              "      fill: #D2E3FC;\n",
              "    }\n",
              "\n",
              "    [theme=dark] .colab-df-convert:hover {\n",
              "      background-color: #434B5C;\n",
              "      box-shadow: 0px 1px 3px 1px rgba(0, 0, 0, 0.15);\n",
              "      filter: drop-shadow(0px 1px 2px rgba(0, 0, 0, 0.3));\n",
              "      fill: #FFFFFF;\n",
              "    }\n",
              "  </style>\n",
              "\n",
              "      <script>\n",
              "        const buttonEl =\n",
              "          document.querySelector('#df-354cb4ee-50c5-4537-9a96-ea5dac19f3e2 button.colab-df-convert');\n",
              "        buttonEl.style.display =\n",
              "          google.colab.kernel.accessAllowed ? 'block' : 'none';\n",
              "\n",
              "        async function convertToInteractive(key) {\n",
              "          const element = document.querySelector('#df-354cb4ee-50c5-4537-9a96-ea5dac19f3e2');\n",
              "          const dataTable =\n",
              "            await google.colab.kernel.invokeFunction('convertToInteractive',\n",
              "                                                     [key], {});\n",
              "          if (!dataTable) return;\n",
              "\n",
              "          const docLinkHtml = 'Like what you see? Visit the ' +\n",
              "            '<a target=\"_blank\" href=https://colab.research.google.com/notebooks/data_table.ipynb>data table notebook</a>'\n",
              "            + ' to learn more about interactive tables.';\n",
              "          element.innerHTML = '';\n",
              "          dataTable['output_type'] = 'display_data';\n",
              "          await google.colab.output.renderOutput(dataTable, element);\n",
              "          const docLink = document.createElement('div');\n",
              "          docLink.innerHTML = docLinkHtml;\n",
              "          element.appendChild(docLink);\n",
              "        }\n",
              "      </script>\n",
              "    </div>\n",
              "  </div>\n",
              "  "
            ]
          },
          "metadata": {},
          "execution_count": 255
        }
      ]
    },
    {
      "cell_type": "code",
      "source": [
        "forecast = my_model.predict(future_dates)\n",
        "forecast[['ds', 'yhat', 'yhat_lower', 'yhat_upper']].head()"
      ],
      "metadata": {
        "colab": {
          "base_uri": "https://localhost:8080/",
          "height": 206
        },
        "id": "Q2I2nixLblV2",
        "outputId": "8a49fb25-42d9-4fb9-fa2f-a63a747c43a2"
      },
      "execution_count": null,
      "outputs": [
        {
          "output_type": "execute_result",
          "data": {
            "text/plain": [
              "          ds      yhat  yhat_lower  yhat_upper\n",
              "0 2000-01-03  0.646819    0.599688    0.702341\n",
              "1 2000-01-10  0.646984    0.593793    0.699068\n",
              "2 2000-01-17  0.647253    0.592494    0.704292\n",
              "3 2000-01-24  0.648140    0.596187    0.701249\n",
              "4 2000-01-31  0.649190    0.595845    0.700900"
            ],
            "text/html": [
              "\n",
              "  <div id=\"df-b8a49fbe-41a7-4cfe-aa43-c148f7322e0b\">\n",
              "    <div class=\"colab-df-container\">\n",
              "      <div>\n",
              "<style scoped>\n",
              "    .dataframe tbody tr th:only-of-type {\n",
              "        vertical-align: middle;\n",
              "    }\n",
              "\n",
              "    .dataframe tbody tr th {\n",
              "        vertical-align: top;\n",
              "    }\n",
              "\n",
              "    .dataframe thead th {\n",
              "        text-align: right;\n",
              "    }\n",
              "</style>\n",
              "<table border=\"1\" class=\"dataframe\">\n",
              "  <thead>\n",
              "    <tr style=\"text-align: right;\">\n",
              "      <th></th>\n",
              "      <th>ds</th>\n",
              "      <th>yhat</th>\n",
              "      <th>yhat_lower</th>\n",
              "      <th>yhat_upper</th>\n",
              "    </tr>\n",
              "  </thead>\n",
              "  <tbody>\n",
              "    <tr>\n",
              "      <th>0</th>\n",
              "      <td>2000-01-03</td>\n",
              "      <td>0.646819</td>\n",
              "      <td>0.599688</td>\n",
              "      <td>0.702341</td>\n",
              "    </tr>\n",
              "    <tr>\n",
              "      <th>1</th>\n",
              "      <td>2000-01-10</td>\n",
              "      <td>0.646984</td>\n",
              "      <td>0.593793</td>\n",
              "      <td>0.699068</td>\n",
              "    </tr>\n",
              "    <tr>\n",
              "      <th>2</th>\n",
              "      <td>2000-01-17</td>\n",
              "      <td>0.647253</td>\n",
              "      <td>0.592494</td>\n",
              "      <td>0.704292</td>\n",
              "    </tr>\n",
              "    <tr>\n",
              "      <th>3</th>\n",
              "      <td>2000-01-24</td>\n",
              "      <td>0.648140</td>\n",
              "      <td>0.596187</td>\n",
              "      <td>0.701249</td>\n",
              "    </tr>\n",
              "    <tr>\n",
              "      <th>4</th>\n",
              "      <td>2000-01-31</td>\n",
              "      <td>0.649190</td>\n",
              "      <td>0.595845</td>\n",
              "      <td>0.700900</td>\n",
              "    </tr>\n",
              "  </tbody>\n",
              "</table>\n",
              "</div>\n",
              "      <button class=\"colab-df-convert\" onclick=\"convertToInteractive('df-b8a49fbe-41a7-4cfe-aa43-c148f7322e0b')\"\n",
              "              title=\"Convert this dataframe to an interactive table.\"\n",
              "              style=\"display:none;\">\n",
              "        \n",
              "  <svg xmlns=\"http://www.w3.org/2000/svg\" height=\"24px\"viewBox=\"0 0 24 24\"\n",
              "       width=\"24px\">\n",
              "    <path d=\"M0 0h24v24H0V0z\" fill=\"none\"/>\n",
              "    <path d=\"M18.56 5.44l.94 2.06.94-2.06 2.06-.94-2.06-.94-.94-2.06-.94 2.06-2.06.94zm-11 1L8.5 8.5l.94-2.06 2.06-.94-2.06-.94L8.5 2.5l-.94 2.06-2.06.94zm10 10l.94 2.06.94-2.06 2.06-.94-2.06-.94-.94-2.06-.94 2.06-2.06.94z\"/><path d=\"M17.41 7.96l-1.37-1.37c-.4-.4-.92-.59-1.43-.59-.52 0-1.04.2-1.43.59L10.3 9.45l-7.72 7.72c-.78.78-.78 2.05 0 2.83L4 21.41c.39.39.9.59 1.41.59.51 0 1.02-.2 1.41-.59l7.78-7.78 2.81-2.81c.8-.78.8-2.07 0-2.86zM5.41 20L4 18.59l7.72-7.72 1.47 1.35L5.41 20z\"/>\n",
              "  </svg>\n",
              "      </button>\n",
              "      \n",
              "  <style>\n",
              "    .colab-df-container {\n",
              "      display:flex;\n",
              "      flex-wrap:wrap;\n",
              "      gap: 12px;\n",
              "    }\n",
              "\n",
              "    .colab-df-convert {\n",
              "      background-color: #E8F0FE;\n",
              "      border: none;\n",
              "      border-radius: 50%;\n",
              "      cursor: pointer;\n",
              "      display: none;\n",
              "      fill: #1967D2;\n",
              "      height: 32px;\n",
              "      padding: 0 0 0 0;\n",
              "      width: 32px;\n",
              "    }\n",
              "\n",
              "    .colab-df-convert:hover {\n",
              "      background-color: #E2EBFA;\n",
              "      box-shadow: 0px 1px 2px rgba(60, 64, 67, 0.3), 0px 1px 3px 1px rgba(60, 64, 67, 0.15);\n",
              "      fill: #174EA6;\n",
              "    }\n",
              "\n",
              "    [theme=dark] .colab-df-convert {\n",
              "      background-color: #3B4455;\n",
              "      fill: #D2E3FC;\n",
              "    }\n",
              "\n",
              "    [theme=dark] .colab-df-convert:hover {\n",
              "      background-color: #434B5C;\n",
              "      box-shadow: 0px 1px 3px 1px rgba(0, 0, 0, 0.15);\n",
              "      filter: drop-shadow(0px 1px 2px rgba(0, 0, 0, 0.3));\n",
              "      fill: #FFFFFF;\n",
              "    }\n",
              "  </style>\n",
              "\n",
              "      <script>\n",
              "        const buttonEl =\n",
              "          document.querySelector('#df-b8a49fbe-41a7-4cfe-aa43-c148f7322e0b button.colab-df-convert');\n",
              "        buttonEl.style.display =\n",
              "          google.colab.kernel.accessAllowed ? 'block' : 'none';\n",
              "\n",
              "        async function convertToInteractive(key) {\n",
              "          const element = document.querySelector('#df-b8a49fbe-41a7-4cfe-aa43-c148f7322e0b');\n",
              "          const dataTable =\n",
              "            await google.colab.kernel.invokeFunction('convertToInteractive',\n",
              "                                                     [key], {});\n",
              "          if (!dataTable) return;\n",
              "\n",
              "          const docLinkHtml = 'Like what you see? Visit the ' +\n",
              "            '<a target=\"_blank\" href=https://colab.research.google.com/notebooks/data_table.ipynb>data table notebook</a>'\n",
              "            + ' to learn more about interactive tables.';\n",
              "          element.innerHTML = '';\n",
              "          dataTable['output_type'] = 'display_data';\n",
              "          await google.colab.output.renderOutput(dataTable, element);\n",
              "          const docLink = document.createElement('div');\n",
              "          docLink.innerHTML = docLinkHtml;\n",
              "          element.appendChild(docLink);\n",
              "        }\n",
              "      </script>\n",
              "    </div>\n",
              "  </div>\n",
              "  "
            ]
          },
          "metadata": {},
          "execution_count": 257
        }
      ]
    },
    {
      "cell_type": "code",
      "source": [
        "forecast[['ds', 'yhat', 'yhat_lower', 'yhat_upper']].tail()"
      ],
      "metadata": {
        "colab": {
          "base_uri": "https://localhost:8080/",
          "height": 206
        },
        "id": "FJTgyjwMe-oC",
        "outputId": "ec5bae38-8713-486a-bd92-a01117fddbb6"
      },
      "execution_count": null,
      "outputs": [
        {
          "output_type": "execute_result",
          "data": {
            "text/plain": [
              "             ds      yhat  yhat_lower  yhat_upper\n",
              "1039 2019-12-01  0.893376    0.725034    1.054184\n",
              "1040 2019-12-08  0.892152    0.721883    1.046004\n",
              "1041 2019-12-15  0.892611    0.727399    1.062022\n",
              "1042 2019-12-22  0.894602    0.730488    1.051487\n",
              "1043 2019-12-29  0.896567    0.721538    1.051734"
            ],
            "text/html": [
              "\n",
              "  <div id=\"df-b6572242-952e-4105-aa47-6b3374502a7f\">\n",
              "    <div class=\"colab-df-container\">\n",
              "      <div>\n",
              "<style scoped>\n",
              "    .dataframe tbody tr th:only-of-type {\n",
              "        vertical-align: middle;\n",
              "    }\n",
              "\n",
              "    .dataframe tbody tr th {\n",
              "        vertical-align: top;\n",
              "    }\n",
              "\n",
              "    .dataframe thead th {\n",
              "        text-align: right;\n",
              "    }\n",
              "</style>\n",
              "<table border=\"1\" class=\"dataframe\">\n",
              "  <thead>\n",
              "    <tr style=\"text-align: right;\">\n",
              "      <th></th>\n",
              "      <th>ds</th>\n",
              "      <th>yhat</th>\n",
              "      <th>yhat_lower</th>\n",
              "      <th>yhat_upper</th>\n",
              "    </tr>\n",
              "  </thead>\n",
              "  <tbody>\n",
              "    <tr>\n",
              "      <th>1039</th>\n",
              "      <td>2019-12-01</td>\n",
              "      <td>0.893376</td>\n",
              "      <td>0.725034</td>\n",
              "      <td>1.054184</td>\n",
              "    </tr>\n",
              "    <tr>\n",
              "      <th>1040</th>\n",
              "      <td>2019-12-08</td>\n",
              "      <td>0.892152</td>\n",
              "      <td>0.721883</td>\n",
              "      <td>1.046004</td>\n",
              "    </tr>\n",
              "    <tr>\n",
              "      <th>1041</th>\n",
              "      <td>2019-12-15</td>\n",
              "      <td>0.892611</td>\n",
              "      <td>0.727399</td>\n",
              "      <td>1.062022</td>\n",
              "    </tr>\n",
              "    <tr>\n",
              "      <th>1042</th>\n",
              "      <td>2019-12-22</td>\n",
              "      <td>0.894602</td>\n",
              "      <td>0.730488</td>\n",
              "      <td>1.051487</td>\n",
              "    </tr>\n",
              "    <tr>\n",
              "      <th>1043</th>\n",
              "      <td>2019-12-29</td>\n",
              "      <td>0.896567</td>\n",
              "      <td>0.721538</td>\n",
              "      <td>1.051734</td>\n",
              "    </tr>\n",
              "  </tbody>\n",
              "</table>\n",
              "</div>\n",
              "      <button class=\"colab-df-convert\" onclick=\"convertToInteractive('df-b6572242-952e-4105-aa47-6b3374502a7f')\"\n",
              "              title=\"Convert this dataframe to an interactive table.\"\n",
              "              style=\"display:none;\">\n",
              "        \n",
              "  <svg xmlns=\"http://www.w3.org/2000/svg\" height=\"24px\"viewBox=\"0 0 24 24\"\n",
              "       width=\"24px\">\n",
              "    <path d=\"M0 0h24v24H0V0z\" fill=\"none\"/>\n",
              "    <path d=\"M18.56 5.44l.94 2.06.94-2.06 2.06-.94-2.06-.94-.94-2.06-.94 2.06-2.06.94zm-11 1L8.5 8.5l.94-2.06 2.06-.94-2.06-.94L8.5 2.5l-.94 2.06-2.06.94zm10 10l.94 2.06.94-2.06 2.06-.94-2.06-.94-.94-2.06-.94 2.06-2.06.94z\"/><path d=\"M17.41 7.96l-1.37-1.37c-.4-.4-.92-.59-1.43-.59-.52 0-1.04.2-1.43.59L10.3 9.45l-7.72 7.72c-.78.78-.78 2.05 0 2.83L4 21.41c.39.39.9.59 1.41.59.51 0 1.02-.2 1.41-.59l7.78-7.78 2.81-2.81c.8-.78.8-2.07 0-2.86zM5.41 20L4 18.59l7.72-7.72 1.47 1.35L5.41 20z\"/>\n",
              "  </svg>\n",
              "      </button>\n",
              "      \n",
              "  <style>\n",
              "    .colab-df-container {\n",
              "      display:flex;\n",
              "      flex-wrap:wrap;\n",
              "      gap: 12px;\n",
              "    }\n",
              "\n",
              "    .colab-df-convert {\n",
              "      background-color: #E8F0FE;\n",
              "      border: none;\n",
              "      border-radius: 50%;\n",
              "      cursor: pointer;\n",
              "      display: none;\n",
              "      fill: #1967D2;\n",
              "      height: 32px;\n",
              "      padding: 0 0 0 0;\n",
              "      width: 32px;\n",
              "    }\n",
              "\n",
              "    .colab-df-convert:hover {\n",
              "      background-color: #E2EBFA;\n",
              "      box-shadow: 0px 1px 2px rgba(60, 64, 67, 0.3), 0px 1px 3px 1px rgba(60, 64, 67, 0.15);\n",
              "      fill: #174EA6;\n",
              "    }\n",
              "\n",
              "    [theme=dark] .colab-df-convert {\n",
              "      background-color: #3B4455;\n",
              "      fill: #D2E3FC;\n",
              "    }\n",
              "\n",
              "    [theme=dark] .colab-df-convert:hover {\n",
              "      background-color: #434B5C;\n",
              "      box-shadow: 0px 1px 3px 1px rgba(0, 0, 0, 0.15);\n",
              "      filter: drop-shadow(0px 1px 2px rgba(0, 0, 0, 0.3));\n",
              "      fill: #FFFFFF;\n",
              "    }\n",
              "  </style>\n",
              "\n",
              "      <script>\n",
              "        const buttonEl =\n",
              "          document.querySelector('#df-b6572242-952e-4105-aa47-6b3374502a7f button.colab-df-convert');\n",
              "        buttonEl.style.display =\n",
              "          google.colab.kernel.accessAllowed ? 'block' : 'none';\n",
              "\n",
              "        async function convertToInteractive(key) {\n",
              "          const element = document.querySelector('#df-b6572242-952e-4105-aa47-6b3374502a7f');\n",
              "          const dataTable =\n",
              "            await google.colab.kernel.invokeFunction('convertToInteractive',\n",
              "                                                     [key], {});\n",
              "          if (!dataTable) return;\n",
              "\n",
              "          const docLinkHtml = 'Like what you see? Visit the ' +\n",
              "            '<a target=\"_blank\" href=https://colab.research.google.com/notebooks/data_table.ipynb>data table notebook</a>'\n",
              "            + ' to learn more about interactive tables.';\n",
              "          element.innerHTML = '';\n",
              "          dataTable['output_type'] = 'display_data';\n",
              "          await google.colab.output.renderOutput(dataTable, element);\n",
              "          const docLink = document.createElement('div');\n",
              "          docLink.innerHTML = docLinkHtml;\n",
              "          element.appendChild(docLink);\n",
              "        }\n",
              "      </script>\n",
              "    </div>\n",
              "  </div>\n",
              "  "
            ]
          },
          "metadata": {},
          "execution_count": 265
        }
      ]
    },
    {
      "cell_type": "code",
      "source": [
        "my_model.plot(forecast, uncertainty=True);"
      ],
      "metadata": {
        "colab": {
          "base_uri": "https://localhost:8080/",
          "height": 441
        },
        "id": "WlnercytbnoC",
        "outputId": "e595d295-d54a-4862-90e5-5c7f62e33a09"
      },
      "execution_count": null,
      "outputs": [
        {
          "output_type": "display_data",
          "data": {
            "text/plain": [
              "<Figure size 720x432 with 1 Axes>"
            ],
            "image/png": "[encoded data removed]"
          },
          "metadata": {}
        }
      ]
    },
    {
      "cell_type": "code",
      "source": [
        "mean_absolute_percentage_error(testing_data.y, forecast[900:].yhat)"
      ],
      "metadata": {
        "colab": {
          "base_uri": "https://localhost:8080/"
        },
        "id": "kM_P5HpLfLFy",
        "outputId": "a8663453-d899-4474-a31e-6ca8cf4e63b0"
      },
      "execution_count": null,
      "outputs": [
        {
          "output_type": "execute_result",
          "data": {
            "text/plain": [
              "8.521415563561622"
            ]
          },
          "metadata": {},
          "execution_count": 269
        }
      ]
    },
    {
      "cell_type": "code",
      "source": [],
      "metadata": {
        "id": "9dev8spYeuLX"
      },
      "execution_count": null,
      "outputs": []
    },
    {
      "cell_type": "markdown",
      "source": [
        "# LSTM"
      ],
      "metadata": {
        "id": "-FRXWf0TC8X8"
      }
    },
    {
      "cell_type": "code",
      "source": [
        "import tensorflow as tf\n",
        "from tensorflow.keras.models import Sequential\n",
        "from tensorflow.keras.layers import Dense\n",
        "from tensorflow.keras.layers import LSTM\n",
        "from sklearn.preprocessing import MinMaxScaler\n",
        "from sklearn.metrics import mean_squared_error"
      ],
      "metadata": {
        "id": "tD_sGfN3fiq-"
      },
      "execution_count": null,
      "outputs": []
    },
    {
      "cell_type": "code",
      "source": [
        "data.head()"
      ],
      "metadata": {
        "colab": {
          "base_uri": "https://localhost:8080/",
          "height": 237
        },
        "id": "mF4571UBbnq-",
        "outputId": "3a4f9baf-b255-4288-c83b-3238097fb3cc"
      },
      "execution_count": null,
      "outputs": [
        {
          "output_type": "execute_result",
          "data": {
            "text/plain": [
              "               rate  time\n",
              "date                     \n",
              "2000-01-03  0.61042     1\n",
              "2000-01-10  0.60860     2\n",
              "2000-01-17  0.60808     3\n",
              "2000-01-24  0.60998     4\n",
              "2000-01-31  0.62244     5"
            ],
            "text/html": [
              "\n",
              "  <div id=\"df-533c134e-a1e2-4575-90be-d9c1dbbf5a22\">\n",
              "    <div class=\"colab-df-container\">\n",
              "      <div>\n",
              "<style scoped>\n",
              "    .dataframe tbody tr th:only-of-type {\n",
              "        vertical-align: middle;\n",
              "    }\n",
              "\n",
              "    .dataframe tbody tr th {\n",
              "        vertical-align: top;\n",
              "    }\n",
              "\n",
              "    .dataframe thead th {\n",
              "        text-align: right;\n",
              "    }\n",
              "</style>\n",
              "<table border=\"1\" class=\"dataframe\">\n",
              "  <thead>\n",
              "    <tr style=\"text-align: right;\">\n",
              "      <th></th>\n",
              "      <th>rate</th>\n",
              "      <th>time</th>\n",
              "    </tr>\n",
              "    <tr>\n",
              "      <th>date</th>\n",
              "      <th></th>\n",
              "      <th></th>\n",
              "    </tr>\n",
              "  </thead>\n",
              "  <tbody>\n",
              "    <tr>\n",
              "      <th>2000-01-03</th>\n",
              "      <td>0.61042</td>\n",
              "      <td>1</td>\n",
              "    </tr>\n",
              "    <tr>\n",
              "      <th>2000-01-10</th>\n",
              "      <td>0.60860</td>\n",
              "      <td>2</td>\n",
              "    </tr>\n",
              "    <tr>\n",
              "      <th>2000-01-17</th>\n",
              "      <td>0.60808</td>\n",
              "      <td>3</td>\n",
              "    </tr>\n",
              "    <tr>\n",
              "      <th>2000-01-24</th>\n",
              "      <td>0.60998</td>\n",
              "      <td>4</td>\n",
              "    </tr>\n",
              "    <tr>\n",
              "      <th>2000-01-31</th>\n",
              "      <td>0.62244</td>\n",
              "      <td>5</td>\n",
              "    </tr>\n",
              "  </tbody>\n",
              "</table>\n",
              "</div>\n",
              "      <button class=\"colab-df-convert\" onclick=\"convertToInteractive('df-533c134e-a1e2-4575-90be-d9c1dbbf5a22')\"\n",
              "              title=\"Convert this dataframe to an interactive table.\"\n",
              "              style=\"display:none;\">\n",
              "        \n",
              "  <svg xmlns=\"http://www.w3.org/2000/svg\" height=\"24px\"viewBox=\"0 0 24 24\"\n",
              "       width=\"24px\">\n",
              "    <path d=\"M0 0h24v24H0V0z\" fill=\"none\"/>\n",
              "    <path d=\"M18.56 5.44l.94 2.06.94-2.06 2.06-.94-2.06-.94-.94-2.06-.94 2.06-2.06.94zm-11 1L8.5 8.5l.94-2.06 2.06-.94-2.06-.94L8.5 2.5l-.94 2.06-2.06.94zm10 10l.94 2.06.94-2.06 2.06-.94-2.06-.94-.94-2.06-.94 2.06-2.06.94z\"/><path d=\"M17.41 7.96l-1.37-1.37c-.4-.4-.92-.59-1.43-.59-.52 0-1.04.2-1.43.59L10.3 9.45l-7.72 7.72c-.78.78-.78 2.05 0 2.83L4 21.41c.39.39.9.59 1.41.59.51 0 1.02-.2 1.41-.59l7.78-7.78 2.81-2.81c.8-.78.8-2.07 0-2.86zM5.41 20L4 18.59l7.72-7.72 1.47 1.35L5.41 20z\"/>\n",
              "  </svg>\n",
              "      </button>\n",
              "      \n",
              "  <style>\n",
              "    .colab-df-container {\n",
              "      display:flex;\n",
              "      flex-wrap:wrap;\n",
              "      gap: 12px;\n",
              "    }\n",
              "\n",
              "    .colab-df-convert {\n",
              "      background-color: #E8F0FE;\n",
              "      border: none;\n",
              "      border-radius: 50%;\n",
              "      cursor: pointer;\n",
              "      display: none;\n",
              "      fill: #1967D2;\n",
              "      height: 32px;\n",
              "      padding: 0 0 0 0;\n",
              "      width: 32px;\n",
              "    }\n",
              "\n",
              "    .colab-df-convert:hover {\n",
              "      background-color: #E2EBFA;\n",
              "      box-shadow: 0px 1px 2px rgba(60, 64, 67, 0.3), 0px 1px 3px 1px rgba(60, 64, 67, 0.15);\n",
              "      fill: #174EA6;\n",
              "    }\n",
              "\n",
              "    [theme=dark] .colab-df-convert {\n",
              "      background-color: #3B4455;\n",
              "      fill: #D2E3FC;\n",
              "    }\n",
              "\n",
              "    [theme=dark] .colab-df-convert:hover {\n",
              "      background-color: #434B5C;\n",
              "      box-shadow: 0px 1px 3px 1px rgba(0, 0, 0, 0.15);\n",
              "      filter: drop-shadow(0px 1px 2px rgba(0, 0, 0, 0.3));\n",
              "      fill: #FFFFFF;\n",
              "    }\n",
              "  </style>\n",
              "\n",
              "      <script>\n",
              "        const buttonEl =\n",
              "          document.querySelector('#df-533c134e-a1e2-4575-90be-d9c1dbbf5a22 button.colab-df-convert');\n",
              "        buttonEl.style.display =\n",
              "          google.colab.kernel.accessAllowed ? 'block' : 'none';\n",
              "\n",
              "        async function convertToInteractive(key) {\n",
              "          const element = document.querySelector('#df-533c134e-a1e2-4575-90be-d9c1dbbf5a22');\n",
              "          const dataTable =\n",
              "            await google.colab.kernel.invokeFunction('convertToInteractive',\n",
              "                                                     [key], {});\n",
              "          if (!dataTable) return;\n",
              "\n",
              "          const docLinkHtml = 'Like what you see? Visit the ' +\n",
              "            '<a target=\"_blank\" href=https://colab.research.google.com/notebooks/data_table.ipynb>data table notebook</a>'\n",
              "            + ' to learn more about interactive tables.';\n",
              "          element.innerHTML = '';\n",
              "          dataTable['output_type'] = 'display_data';\n",
              "          await google.colab.output.renderOutput(dataTable, element);\n",
              "          const docLink = document.createElement('div');\n",
              "          docLink.innerHTML = docLinkHtml;\n",
              "          element.appendChild(docLink);\n",
              "        }\n",
              "      </script>\n",
              "    </div>\n",
              "  </div>\n",
              "  "
            ]
          },
          "metadata": {},
          "execution_count": 273
        }
      ]
    },
    {
      "cell_type": "code",
      "source": [
        "dataset = data.rate.values\n",
        "dataset = dataset.astype('float32')"
      ],
      "metadata": {
        "id": "TWvu8lgPhWxa"
      },
      "execution_count": null,
      "outputs": []
    },
    {
      "cell_type": "code",
      "source": [
        "dataset = dataset.reshape(-1,1)"
      ],
      "metadata": {
        "id": "e4d0Rt9yh39l"
      },
      "execution_count": null,
      "outputs": []
    },
    {
      "cell_type": "code",
      "source": [
        "# normalize the dataset\n",
        "scaler = MinMaxScaler(feature_range=(0, 1))\n",
        "dataset = scaler.fit_transform(dataset)"
      ],
      "metadata": {
        "id": "w7kMqMeNhuHC"
      },
      "execution_count": null,
      "outputs": []
    },
    {
      "cell_type": "code",
      "source": [
        "# split into train and test sets\n",
        "train_size = int(len(dataset) * 0.86)\n",
        "test_size = len(dataset) - train_size\n",
        "train, test = dataset[0:train_size,:], dataset[train_size:len(dataset),:]\n",
        "print(len(train), len(test))"
      ],
      "metadata": {
        "colab": {
          "base_uri": "https://localhost:8080/"
        },
        "id": "BeKDnEv-h0K9",
        "outputId": "9029b6fe-dfbc-48ea-d205-894ce0f7d20e"
      },
      "execution_count": null,
      "outputs": [
        {
          "output_type": "stream",
          "name": "stdout",
          "text": [
            "897 147\n"
          ]
        }
      ]
    },
    {
      "cell_type": "code",
      "source": [
        "def create_dataset(dataset, look_back=1):\n",
        "\tdataX, dataY = [], []\n",
        "\tfor i in range(len(dataset)-look_back-1):\n",
        "\t\ta = dataset[i:(i+look_back), 0]\n",
        "\t\tdataX.append(a)\n",
        "\t\tdataY.append(dataset[i + look_back, 0])\n",
        "\treturn np.array(dataX), np.array(dataY)"
      ],
      "metadata": {
        "id": "l7sTb_csih4X"
      },
      "execution_count": null,
      "outputs": []
    },
    {
      "cell_type": "code",
      "source": [
        "# reshape into X=t and Y=t+1\n",
        "look_back = 1\n",
        "trainX, trainY = create_dataset(train, look_back)\n",
        "testX, testY = create_dataset(test, look_back)"
      ],
      "metadata": {
        "id": "GEFUaPF4iucv"
      },
      "execution_count": null,
      "outputs": []
    },
    {
      "cell_type": "code",
      "source": [
        "# reshape input to be [samples, time steps, features]\n",
        "trainX = np.reshape(trainX, (trainX.shape[0], 1, trainX.shape[1]))\n",
        "testX = np.reshape(testX, (testX.shape[0], 1, testX.shape[1]))"
      ],
      "metadata": {
        "id": "Mq2nhgP_i0O4"
      },
      "execution_count": null,
      "outputs": []
    },
    {
      "cell_type": "code",
      "source": [
        "# create and fit the LSTM network\n",
        "model = Sequential()\n",
        "model.add(LSTM(4, input_shape=(1, look_back)))\n",
        "model.add(Dense(1))\n",
        "model.compile(loss='mean_squared_error', optimizer='adam')\n",
        "model.fit(trainX, trainY, epochs=100, batch_size=1, verbose=2)"
      ],
      "metadata": {
        "colab": {
          "base_uri": "https://localhost:8080/"
        },
        "id": "--Qxeze2i4CC",
        "outputId": "abbee158-a930-4330-8580-4a70ea131e95"
      },
      "execution_count": null,
      "outputs": [
        {
          "output_type": "stream",
          "name": "stdout",
          "text": [
            "Epoch 1/100\n",
            "895/895 - 4s - loss: 0.0395 - 4s/epoch - 5ms/step\n",
            "Epoch 2/100\n",
            "895/895 - 1s - loss: 0.0071 - 1s/epoch - 1ms/step\n",
            "Epoch 3/100\n",
            "895/895 - 1s - loss: 8.9592e-04 - 1s/epoch - 1ms/step\n",
            "Epoch 4/100\n",
            "895/895 - 1s - loss: 4.3770e-04 - 1s/epoch - 1ms/step\n",
            "Epoch 5/100\n",
            "895/895 - 1s - loss: 4.5360e-04 - 1s/epoch - 1ms/step\n",
            "Epoch 6/100\n",
            "895/895 - 1s - loss: 4.4501e-04 - 1s/epoch - 2ms/step\n",
            "Epoch 7/100\n",
            "895/895 - 1s - loss: 4.4827e-04 - 1s/epoch - 1ms/step\n",
            "Epoch 8/100\n",
            "895/895 - 1s - loss: 4.5569e-04 - 1s/epoch - 1ms/step\n",
            "Epoch 9/100\n",
            "895/895 - 1s - loss: 4.5031e-04 - 1s/epoch - 2ms/step\n",
            "Epoch 10/100\n",
            "895/895 - 1s - loss: 4.6008e-04 - 1s/epoch - 2ms/step\n",
            "Epoch 11/100\n",
            "895/895 - 1s - loss: 4.5174e-04 - 1s/epoch - 2ms/step\n",
            "Epoch 12/100\n",
            "895/895 - 3s - loss: 4.6221e-04 - 3s/epoch - 4ms/step\n",
            "Epoch 13/100\n",
            "895/895 - 3s - loss: 4.5659e-04 - 3s/epoch - 4ms/step\n",
            "Epoch 14/100\n",
            "895/895 - 2s - loss: 4.4225e-04 - 2s/epoch - 3ms/step\n",
            "Epoch 15/100\n",
            "895/895 - 2s - loss: 4.4817e-04 - 2s/epoch - 2ms/step\n",
            "Epoch 16/100\n",
            "895/895 - 1s - loss: 4.6013e-04 - 1s/epoch - 1ms/step\n",
            "Epoch 17/100\n",
            "895/895 - 1s - loss: 4.5519e-04 - 1s/epoch - 2ms/step\n",
            "Epoch 18/100\n",
            "895/895 - 2s - loss: 4.5149e-04 - 2s/epoch - 2ms/step\n",
            "Epoch 19/100\n",
            "895/895 - 3s - loss: 4.4811e-04 - 3s/epoch - 3ms/step\n",
            "Epoch 20/100\n",
            "895/895 - 2s - loss: 4.6038e-04 - 2s/epoch - 2ms/step\n",
            "Epoch 21/100\n",
            "895/895 - 2s - loss: 4.5213e-04 - 2s/epoch - 3ms/step\n",
            "Epoch 22/100\n",
            "895/895 - 1s - loss: 4.5743e-04 - 1s/epoch - 1ms/step\n",
            "Epoch 23/100\n",
            "895/895 - 1s - loss: 4.5307e-04 - 1s/epoch - 1ms/step\n",
            "Epoch 24/100\n",
            "895/895 - 1s - loss: 4.5741e-04 - 1s/epoch - 2ms/step\n",
            "Epoch 25/100\n",
            "895/895 - 1s - loss: 4.4241e-04 - 1s/epoch - 1ms/step\n",
            "Epoch 26/100\n",
            "895/895 - 1s - loss: 4.4472e-04 - 1s/epoch - 1ms/step\n",
            "Epoch 27/100\n",
            "895/895 - 1s - loss: 4.4790e-04 - 1s/epoch - 2ms/step\n",
            "Epoch 28/100\n",
            "895/895 - 1s - loss: 4.3916e-04 - 1s/epoch - 1ms/step\n",
            "Epoch 29/100\n",
            "895/895 - 1s - loss: 4.5027e-04 - 1s/epoch - 1ms/step\n",
            "Epoch 30/100\n",
            "895/895 - 1s - loss: 4.5180e-04 - 1s/epoch - 1ms/step\n",
            "Epoch 31/100\n",
            "895/895 - 1s - loss: 4.5227e-04 - 1s/epoch - 1ms/step\n",
            "Epoch 32/100\n",
            "895/895 - 1s - loss: 4.5558e-04 - 1s/epoch - 1ms/step\n",
            "Epoch 33/100\n",
            "895/895 - 1s - loss: 4.5253e-04 - 1s/epoch - 1ms/step\n",
            "Epoch 34/100\n",
            "895/895 - 1s - loss: 4.4700e-04 - 1s/epoch - 1ms/step\n",
            "Epoch 35/100\n",
            "895/895 - 1s - loss: 4.4766e-04 - 1s/epoch - 1ms/step\n",
            "Epoch 36/100\n",
            "895/895 - 1s - loss: 4.5107e-04 - 1s/epoch - 1ms/step\n",
            "Epoch 37/100\n",
            "895/895 - 1s - loss: 4.4924e-04 - 1s/epoch - 1ms/step\n",
            "Epoch 38/100\n",
            "895/895 - 1s - loss: 4.4734e-04 - 1s/epoch - 1ms/step\n",
            "Epoch 39/100\n",
            "895/895 - 1s - loss: 4.4777e-04 - 1s/epoch - 2ms/step\n",
            "Epoch 40/100\n",
            "895/895 - 1s - loss: 4.4921e-04 - 1s/epoch - 2ms/step\n",
            "Epoch 41/100\n",
            "895/895 - 1s - loss: 4.6842e-04 - 1s/epoch - 1ms/step\n",
            "Epoch 42/100\n",
            "895/895 - 1s - loss: 4.6137e-04 - 1s/epoch - 1ms/step\n",
            "Epoch 43/100\n",
            "895/895 - 1s - loss: 4.3658e-04 - 1s/epoch - 1ms/step\n",
            "Epoch 44/100\n",
            "895/895 - 1s - loss: 4.4912e-04 - 1s/epoch - 1ms/step\n",
            "Epoch 45/100\n",
            "895/895 - 1s - loss: 4.5082e-04 - 1s/epoch - 1ms/step\n",
            "Epoch 46/100\n",
            "895/895 - 1s - loss: 4.5458e-04 - 1s/epoch - 2ms/step\n",
            "Epoch 47/100\n",
            "895/895 - 1s - loss: 4.4077e-04 - 1s/epoch - 1ms/step\n",
            "Epoch 48/100\n",
            "895/895 - 1s - loss: 4.4646e-04 - 1s/epoch - 1ms/step\n",
            "Epoch 49/100\n",
            "895/895 - 1s - loss: 4.4688e-04 - 1s/epoch - 1ms/step\n",
            "Epoch 50/100\n",
            "895/895 - 1s - loss: 4.5064e-04 - 1s/epoch - 2ms/step\n",
            "Epoch 51/100\n",
            "895/895 - 1s - loss: 4.4555e-04 - 1s/epoch - 1ms/step\n",
            "Epoch 52/100\n",
            "895/895 - 1s - loss: 4.3532e-04 - 1s/epoch - 1ms/step\n",
            "Epoch 53/100\n",
            "895/895 - 1s - loss: 4.5210e-04 - 1s/epoch - 2ms/step\n",
            "Epoch 54/100\n",
            "895/895 - 1s - loss: 4.4017e-04 - 1s/epoch - 1ms/step\n",
            "Epoch 55/100\n",
            "895/895 - 1s - loss: 4.3834e-04 - 1s/epoch - 1ms/step\n",
            "Epoch 56/100\n",
            "895/895 - 1s - loss: 4.6089e-04 - 1s/epoch - 1ms/step\n",
            "Epoch 57/100\n",
            "895/895 - 1s - loss: 4.6048e-04 - 1s/epoch - 1ms/step\n",
            "Epoch 58/100\n",
            "895/895 - 1s - loss: 4.5975e-04 - 1s/epoch - 1ms/step\n",
            "Epoch 59/100\n",
            "895/895 - 1s - loss: 4.6083e-04 - 1s/epoch - 1ms/step\n",
            "Epoch 60/100\n",
            "895/895 - 1s - loss: 4.5456e-04 - 1s/epoch - 1ms/step\n",
            "Epoch 61/100\n",
            "895/895 - 1s - loss: 4.5007e-04 - 1s/epoch - 2ms/step\n",
            "Epoch 62/100\n",
            "895/895 - 1s - loss: 4.5777e-04 - 1s/epoch - 2ms/step\n",
            "Epoch 63/100\n",
            "895/895 - 1s - loss: 4.5219e-04 - 1s/epoch - 1ms/step\n",
            "Epoch 64/100\n",
            "895/895 - 1s - loss: 4.5596e-04 - 1s/epoch - 1ms/step\n",
            "Epoch 65/100\n",
            "895/895 - 1s - loss: 4.5938e-04 - 1s/epoch - 2ms/step\n",
            "Epoch 66/100\n",
            "895/895 - 1s - loss: 4.3573e-04 - 1s/epoch - 1ms/step\n",
            "Epoch 67/100\n",
            "895/895 - 1s - loss: 4.4808e-04 - 1s/epoch - 1ms/step\n",
            "Epoch 68/100\n",
            "895/895 - 1s - loss: 4.5348e-04 - 1s/epoch - 1ms/step\n",
            "Epoch 69/100\n",
            "895/895 - 1s - loss: 4.4636e-04 - 1s/epoch - 1ms/step\n",
            "Epoch 70/100\n",
            "895/895 - 1s - loss: 4.4786e-04 - 1s/epoch - 1ms/step\n",
            "Epoch 71/100\n",
            "895/895 - 1s - loss: 4.5510e-04 - 1s/epoch - 1ms/step\n",
            "Epoch 72/100\n",
            "895/895 - 1s - loss: 4.5518e-04 - 1s/epoch - 1ms/step\n",
            "Epoch 73/100\n",
            "895/895 - 1s - loss: 4.5092e-04 - 1s/epoch - 1ms/step\n",
            "Epoch 74/100\n",
            "895/895 - 1s - loss: 4.5777e-04 - 1s/epoch - 1ms/step\n",
            "Epoch 75/100\n",
            "895/895 - 1s - loss: 4.5043e-04 - 1s/epoch - 1ms/step\n",
            "Epoch 76/100\n",
            "895/895 - 1s - loss: 4.5025e-04 - 1s/epoch - 1ms/step\n",
            "Epoch 77/100\n",
            "895/895 - 1s - loss: 4.4489e-04 - 1s/epoch - 1ms/step\n",
            "Epoch 78/100\n",
            "895/895 - 1s - loss: 4.4419e-04 - 1s/epoch - 1ms/step\n",
            "Epoch 79/100\n",
            "895/895 - 1s - loss: 4.4144e-04 - 1s/epoch - 1ms/step\n",
            "Epoch 80/100\n",
            "895/895 - 1s - loss: 4.4285e-04 - 1s/epoch - 1ms/step\n",
            "Epoch 81/100\n",
            "895/895 - 1s - loss: 4.4073e-04 - 1s/epoch - 1ms/step\n",
            "Epoch 82/100\n",
            "895/895 - 1s - loss: 4.4994e-04 - 1s/epoch - 1ms/step\n",
            "Epoch 83/100\n",
            "895/895 - 1s - loss: 4.5834e-04 - 1s/epoch - 1ms/step\n",
            "Epoch 84/100\n",
            "895/895 - 1s - loss: 4.4728e-04 - 1s/epoch - 2ms/step\n",
            "Epoch 85/100\n",
            "895/895 - 1s - loss: 4.4889e-04 - 1s/epoch - 2ms/step\n",
            "Epoch 86/100\n",
            "895/895 - 1s - loss: 4.4008e-04 - 1s/epoch - 1ms/step\n",
            "Epoch 87/100\n",
            "895/895 - 1s - loss: 4.5207e-04 - 1s/epoch - 1ms/step\n",
            "Epoch 88/100\n",
            "895/895 - 1s - loss: 4.6179e-04 - 1s/epoch - 1ms/step\n",
            "Epoch 89/100\n",
            "895/895 - 1s - loss: 4.4274e-04 - 1s/epoch - 1ms/step\n",
            "Epoch 90/100\n",
            "895/895 - 1s - loss: 4.4622e-04 - 1s/epoch - 1ms/step\n",
            "Epoch 91/100\n",
            "895/895 - 1s - loss: 4.5377e-04 - 1s/epoch - 1ms/step\n",
            "Epoch 92/100\n",
            "895/895 - 1s - loss: 4.4157e-04 - 1s/epoch - 1ms/step\n",
            "Epoch 93/100\n",
            "895/895 - 1s - loss: 4.5852e-04 - 1s/epoch - 1ms/step\n",
            "Epoch 94/100\n",
            "895/895 - 1s - loss: 4.5362e-04 - 1s/epoch - 1ms/step\n",
            "Epoch 95/100\n",
            "895/895 - 1s - loss: 4.5624e-04 - 1s/epoch - 1ms/step\n",
            "Epoch 96/100\n",
            "895/895 - 1s - loss: 4.4491e-04 - 1s/epoch - 1ms/step\n",
            "Epoch 97/100\n",
            "895/895 - 1s - loss: 4.5038e-04 - 1s/epoch - 2ms/step\n",
            "Epoch 98/100\n",
            "895/895 - 2s - loss: 4.4192e-04 - 2s/epoch - 2ms/step\n",
            "Epoch 99/100\n",
            "895/895 - 2s - loss: 4.5237e-04 - 2s/epoch - 2ms/step\n",
            "Epoch 100/100\n",
            "895/895 - 1s - loss: 4.3614e-04 - 1s/epoch - 2ms/step\n"
          ]
        },
        {
          "output_type": "execute_result",
          "data": {
            "text/plain": [
              "<keras.callbacks.History at 0x7f40a54b4810>"
            ]
          },
          "metadata": {},
          "execution_count": 295
        }
      ]
    },
    {
      "cell_type": "code",
      "source": [
        "# make predictions\n",
        "trainPredict = model.predict(trainX)\n",
        "testPredict = model.predict(testX)\n",
        "# invert predictions\n",
        "trainPredict = scaler.inverse_transform(trainPredict)\n",
        "trainY = scaler.inverse_transform([trainY])\n",
        "testPredict = scaler.inverse_transform(testPredict)\n",
        "testY = scaler.inverse_transform([testY])\n",
        "# calculate root mean squared error\n",
        "trainScore = np.sqrt(mean_absolute_percentage_error(trainY[0], trainPredict[:,0]))\n",
        "print('Train Score: %.2f MAPE' % (trainScore))\n",
        "testScore = np.sqrt(mean_absolute_percentage_error(testY[0], testPredict[:,0]))\n",
        "print('Test Score: %.2f MAPE' % (testScore))"
      ],
      "metadata": {
        "colab": {
          "base_uri": "https://localhost:8080/"
        },
        "id": "MXitIDtZi7o8",
        "outputId": "6df3a5a7-fda5-4b14-c7f4-d7a4ae9e2274"
      },
      "execution_count": null,
      "outputs": [
        {
          "output_type": "stream",
          "name": "stdout",
          "text": [
            "Train Score: 0.94 MAPE\n",
            "Test Score: 0.87 MAPE\n"
          ]
        }
      ]
    },
    {
      "cell_type": "code",
      "source": [],
      "metadata": {
        "id": "dknZzkfYmcce"
      },
      "execution_count": null,
      "outputs": []
    },
    {
      "cell_type": "code",
      "source": [
        "plt.figure(figsize=(15,7))\n",
        "# shift train predictions for plotting\n",
        "trainPredictPlot = np.empty_like(dataset)\n",
        "trainPredictPlot[:, :] = np.nan\n",
        "trainPredictPlot[look_back:len(trainPredict)+look_back, :] = trainPredict\n",
        "# shift test predictions for plotting\n",
        "testPredictPlot = np.empty_like(dataset)\n",
        "testPredictPlot[:, :] = np.nan\n",
        "testPredictPlot[len(trainPredict)+(look_back*2)+1:len(dataset)-1, :] = testPredict\n",
        "# plot baseline and predictions\n",
        "plt.plot(scaler.inverse_transform(dataset))\n",
        "plt.plot(trainPredictPlot)\n",
        "plt.plot(testPredictPlot)\n",
        "plt.show()"
      ],
      "metadata": {
        "colab": {
          "base_uri": "https://localhost:8080/",
          "height": 428
        },
        "id": "Ll55zV6jjAzm",
        "outputId": "4ecc72d5-071e-4cd3-f678-1aeba13473f2"
      },
      "execution_count": null,
      "outputs": [
        {
          "output_type": "display_data",
          "data": {
            "text/plain": [
              "<Figure size 1080x504 with 1 Axes>"
            ],
            "image/png": "[encoded data removed]"
          },
          "metadata": {
            "needs_background": "light"
          }
        }
      ]
    },
    {
      "cell_type": "markdown",
      "source": [
        "### We can see our LSTM model performed the best for our predictions. Please feel free to add anything in comments and help me improve this notebook."
      ],
      "metadata": {
        "id": "cFoeEkThDAez"
      }
    },
    {
      "cell_type": "code",
      "source": [],
      "metadata": {
        "id": "M2ugpsitDJuc"
      },
      "execution_count": null,
      "outputs": []
    }
  ]
}